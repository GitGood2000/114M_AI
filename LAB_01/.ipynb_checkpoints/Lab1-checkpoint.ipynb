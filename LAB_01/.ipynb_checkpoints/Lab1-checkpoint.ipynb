{
 "cells": [
  {
   "cell_type": "markdown",
   "id": "2a5648f4",
   "metadata": {},
   "source": [
    "# Лабораторная работа №1\n",
    "### Конечномерная оптимизация, градиентные методы"
   ]
  },
  {
   "cell_type": "code",
   "execution_count": 10,
   "id": "8f38de85",
   "metadata": {},
   "outputs": [],
   "source": [
    "from typing import Tuple, Mapping\n",
    "\n",
    "import numpy as np\n",
    "from matplotlib import pyplot as plt\n",
    "import sklearn as skl\n",
    "\n",
    "#GDF\n",
    "def my_GD(f: Mapping, df: Mapping, x0: np.ndarray, lr: float = 0.01, T: int = 100) -> Tuple [np.ndarray, np.float32]:\n",
    "    '''Моя простейшая реализация градиентного спуска.\n",
    "    \n",
    "    Args:\n",
    "        f (Mapping): Функционал для оптимизации\n",
    "        df (Mapping): Градиент оптимизирующего функционала\n",
    "        x0 (np.ndarray): Стартовая точка\n",
    "        lr (float): Скорость обучения. Default=0,01.\n",
    "        T (int): Количество итераций.\n",
    "    \n",
    "    Returns:\n",
    "        Tuple [np.ndarray, np.float32]: (x_optimal, f(x_optimal)).\n",
    "    \n",
    "    '''\n",
    "    for i in range(100):\n",
    "        x_new = x_old - lr*df(x_old)\n",
    "        \n",
    "    return x_new, f(x_new)\n",
    "    "
   ]
  },
  {
   "cell_type": "code",
   "execution_count": 23,
   "id": "14f0ebae",
   "metadata": {},
   "outputs": [
    {
     "data": {
      "text/plain": [
       "(51.66609999999998, array(0.62))"
      ]
     },
     "execution_count": 23,
     "metadata": {},
     "output_type": "execute_result"
    }
   ],
   "source": [
    "#функция\n",
    "def Himmelblau(x: np.float32, y: np.float32) -> np.float64:\n",
    "    '''\n",
    "    Функция Химмельблау\n",
    "    \n",
    "    Args:\n",
    "        x(np.ndarray): Аргумент 1\n",
    "        y(np.ndarray): Аргумент 2\n",
    "        \n",
    "    Returns:\n",
    "        np.float64: Результат функции\n",
    "    '''\n",
    "    return np.square(np.square(x)+y-11)+np.square(x+np.square(y)-7);\n",
    "\n",
    "#градиент\n",
    "def Himmelblau_Grad(x: np.ndarray, y: np.ndarray) -> np.float64:\n",
    "    return np.array((4*x*(np.square(x)+y-11)+2*(x+np.square(y)-7)),(2*(np.square(x)+y-11)+4*y*(x+np.square(y)-7)));\n",
    "\n",
    "Himmelblau(2.5, 3.4), Himmelblau_Grad(2.5, 3.4)"
   ]
  },
  {
   "cell_type": "code",
   "execution_count": null,
   "id": "db1b0f86",
   "metadata": {},
   "outputs": [],
   "source": []
  }
 ],
 "metadata": {
  "kernelspec": {
   "display_name": "Python [conda env:MAI_114M] *",
   "language": "python",
   "name": "conda-env-MAI_114M-py"
  },
  "language_info": {
   "codemirror_mode": {
    "name": "ipython",
    "version": 3
   },
   "file_extension": ".py",
   "mimetype": "text/x-python",
   "name": "python",
   "nbconvert_exporter": "python",
   "pygments_lexer": "ipython3",
   "version": "3.7.13"
  }
 },
 "nbformat": 4,
 "nbformat_minor": 5
}

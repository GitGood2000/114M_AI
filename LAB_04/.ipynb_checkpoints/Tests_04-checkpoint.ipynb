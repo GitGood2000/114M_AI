{
 "cells": [
  {
   "cell_type": "code",
   "execution_count": 1,
   "id": "57f0c4dd",
   "metadata": {},
   "outputs": [],
   "source": [
    "import optuna\n",
    "import sklearn.ensemble\n",
    "import sklearn.svm"
   ]
  },
  {
   "cell_type": "markdown",
   "id": "bb5e3e69",
   "metadata": {},
   "source": [
    "Basic operations"
   ]
  },
  {
   "cell_type": "code",
   "execution_count": 2,
   "id": "61e728c1",
   "metadata": {},
   "outputs": [],
   "source": [
    "def f(x):\n",
    "    return (x - 2) ** 2\n",
    "\n",
    "def objective(trial):\n",
    "    x = trial.suggest_float(\"x\", -10, 10) #int, float, categorical\n",
    "    return f(x)"
   ]
  },
  {
   "cell_type": "code",
   "execution_count": 3,
   "id": "4397ca19",
   "metadata": {},
   "outputs": [
    {
     "name": "stderr",
     "output_type": "stream",
     "text": [
      "\u001b[32m[I 2022-10-29 13:38:31,337]\u001b[0m A new study created in memory with name: no-name-409daaf1-7fc3-486a-a10f-8baf1ef16007\u001b[0m\n",
      "\u001b[32m[I 2022-10-29 13:38:31,343]\u001b[0m Trial 0 finished with value: 35.12888050031606 and parameters: {'x': 7.926962164576054}. Best is trial 0 with value: 35.12888050031606.\u001b[0m\n",
      "\u001b[32m[I 2022-10-29 13:38:31,345]\u001b[0m Trial 1 finished with value: 0.9736220064863446 and parameters: {'x': 2.9867228620470616}. Best is trial 1 with value: 0.9736220064863446.\u001b[0m\n",
      "\u001b[32m[I 2022-10-29 13:38:31,347]\u001b[0m Trial 2 finished with value: 34.85011784014785 and parameters: {'x': -3.9033988379701956}. Best is trial 1 with value: 0.9736220064863446.\u001b[0m\n",
      "\u001b[32m[I 2022-10-29 13:38:31,348]\u001b[0m Trial 3 finished with value: 105.82423419357774 and parameters: {'x': -8.287090657400553}. Best is trial 1 with value: 0.9736220064863446.\u001b[0m\n",
      "\u001b[32m[I 2022-10-29 13:38:31,350]\u001b[0m Trial 4 finished with value: 5.79158977027192 and parameters: {'x': 4.406572203419611}. Best is trial 1 with value: 0.9736220064863446.\u001b[0m\n",
      "\u001b[32m[I 2022-10-29 13:38:31,352]\u001b[0m Trial 5 finished with value: 11.815248615227787 and parameters: {'x': 5.437331612636143}. Best is trial 1 with value: 0.9736220064863446.\u001b[0m\n",
      "\u001b[32m[I 2022-10-29 13:38:31,354]\u001b[0m Trial 6 finished with value: 113.66944517319197 and parameters: {'x': -8.661587366484973}. Best is trial 1 with value: 0.9736220064863446.\u001b[0m\n",
      "\u001b[32m[I 2022-10-29 13:38:31,356]\u001b[0m Trial 7 finished with value: 60.61214624902119 and parameters: {'x': -5.785380289300015}. Best is trial 1 with value: 0.9736220064863446.\u001b[0m\n",
      "\u001b[32m[I 2022-10-29 13:38:31,358]\u001b[0m Trial 8 finished with value: 47.4230290655617 and parameters: {'x': 8.886438053563083}. Best is trial 1 with value: 0.9736220064863446.\u001b[0m\n",
      "\u001b[32m[I 2022-10-29 13:38:31,362]\u001b[0m Trial 9 finished with value: 22.72389851100311 and parameters: {'x': 6.76695904230392}. Best is trial 1 with value: 0.9736220064863446.\u001b[0m\n",
      "\u001b[32m[I 2022-10-29 13:38:31,371]\u001b[0m Trial 10 finished with value: 1.8813249142444377 and parameters: {'x': 0.6283860185006724}. Best is trial 1 with value: 0.9736220064863446.\u001b[0m\n",
      "\u001b[32m[I 2022-10-29 13:38:31,378]\u001b[0m Trial 11 finished with value: 0.5747201128744331 and parameters: {'x': 1.241897030163822}. Best is trial 11 with value: 0.5747201128744331.\u001b[0m\n",
      "\u001b[32m[I 2022-10-29 13:38:31,386]\u001b[0m Trial 12 finished with value: 0.8312645765533768 and parameters: {'x': 1.0882628796887905}. Best is trial 11 with value: 0.5747201128744331.\u001b[0m\n",
      "\u001b[32m[I 2022-10-29 13:38:31,394]\u001b[0m Trial 13 finished with value: 10.966321974308048 and parameters: {'x': -1.3115437448881828}. Best is trial 11 with value: 0.5747201128744331.\u001b[0m\n",
      "\u001b[32m[I 2022-10-29 13:38:31,399]\u001b[0m Trial 14 finished with value: 0.9249374490262265 and parameters: {'x': 1.0382633161690116}. Best is trial 11 with value: 0.5747201128744331.\u001b[0m\n",
      "\u001b[32m[I 2022-10-29 13:38:31,408]\u001b[0m Trial 15 finished with value: 11.319551382321484 and parameters: {'x': -1.3644540987092515}. Best is trial 11 with value: 0.5747201128744331.\u001b[0m\n",
      "\u001b[32m[I 2022-10-29 13:38:31,416]\u001b[0m Trial 16 finished with value: 0.44581531565533355 and parameters: {'x': 2.6676940284706263}. Best is trial 16 with value: 0.44581531565533355.\u001b[0m\n",
      "\u001b[32m[I 2022-10-29 13:38:31,421]\u001b[0m Trial 17 finished with value: 1.927749689972335 and parameters: {'x': 3.3884342584264964}. Best is trial 16 with value: 0.44581531565533355.\u001b[0m\n",
      "\u001b[32m[I 2022-10-29 13:38:31,430]\u001b[0m Trial 18 finished with value: 26.896279501335894 and parameters: {'x': -3.186162309582674}. Best is trial 16 with value: 0.44581531565533355.\u001b[0m\n",
      "\u001b[32m[I 2022-10-29 13:38:31,436]\u001b[0m Trial 19 finished with value: 1.177362454335115 and parameters: {'x': 3.0850633411626784}. Best is trial 16 with value: 0.44581531565533355.\u001b[0m\n",
      "\u001b[32m[I 2022-10-29 13:38:31,442]\u001b[0m Trial 20 finished with value: 14.939768357720418 and parameters: {'x': 5.865199653021874}. Best is trial 16 with value: 0.44581531565533355.\u001b[0m\n",
      "\u001b[32m[I 2022-10-29 13:38:31,450]\u001b[0m Trial 21 finished with value: 1.0495828230612 and parameters: {'x': 0.9755085051298864}. Best is trial 16 with value: 0.44581531565533355.\u001b[0m\n",
      "\u001b[32m[I 2022-10-29 13:38:31,456]\u001b[0m Trial 22 finished with value: 0.0002795250714286117 and parameters: {'x': 1.9832809966975118}. Best is trial 22 with value: 0.0002795250714286117.\u001b[0m\n",
      "\u001b[32m[I 2022-10-29 13:38:31,465]\u001b[0m Trial 23 finished with value: 11.664139589014912 and parameters: {'x': -1.415280308995868}. Best is trial 22 with value: 0.0002795250714286117.\u001b[0m\n",
      "\u001b[32m[I 2022-10-29 13:38:31,472]\u001b[0m Trial 24 finished with value: 0.9833059736836276 and parameters: {'x': 2.9916178566784826}. Best is trial 22 with value: 0.0002795250714286117.\u001b[0m\n",
      "\u001b[32m[I 2022-10-29 13:38:31,481]\u001b[0m Trial 25 finished with value: 0.0036564722787553274 and parameters: {'x': 1.9395312288966005}. Best is trial 22 with value: 0.0002795250714286117.\u001b[0m\n",
      "\u001b[32m[I 2022-10-29 13:38:31,486]\u001b[0m Trial 26 finished with value: 7.467413659756421 and parameters: {'x': 4.732656886576948}. Best is trial 22 with value: 0.0002795250714286117.\u001b[0m\n",
      "\u001b[32m[I 2022-10-29 13:38:31,493]\u001b[0m Trial 27 finished with value: 6.815545097226782 and parameters: {'x': -0.6106598968894401}. Best is trial 22 with value: 0.0002795250714286117.\u001b[0m\n",
      "\u001b[32m[I 2022-10-29 13:38:31,501]\u001b[0m Trial 28 finished with value: 30.237643523952507 and parameters: {'x': -3.4988765692596258}. Best is trial 22 with value: 0.0002795250714286117.\u001b[0m\n",
      "\u001b[32m[I 2022-10-29 13:38:31,506]\u001b[0m Trial 29 finished with value: 27.1669857457565 and parameters: {'x': 7.21219586602005}. Best is trial 22 with value: 0.0002795250714286117.\u001b[0m\n",
      "\u001b[32m[I 2022-10-29 13:38:31,516]\u001b[0m Trial 30 finished with value: 60.29187364820593 and parameters: {'x': 9.76478419843114}. Best is trial 22 with value: 0.0002795250714286117.\u001b[0m\n",
      "\u001b[32m[I 2022-10-29 13:38:31,524]\u001b[0m Trial 31 finished with value: 0.002293013160640519 and parameters: {'x': 1.952114583006509}. Best is trial 22 with value: 0.0002795250714286117.\u001b[0m\n",
      "\u001b[32m[I 2022-10-29 13:38:31,532]\u001b[0m Trial 32 finished with value: 0.0009859868897032693 and parameters: {'x': 2.031400428177069}. Best is trial 22 with value: 0.0002795250714286117.\u001b[0m\n",
      "\u001b[32m[I 2022-10-29 13:38:31,540]\u001b[0m Trial 33 finished with value: 0.01793912266199136 and parameters: {'x': 2.1339370100532014}. Best is trial 22 with value: 0.0002795250714286117.\u001b[0m\n",
      "\u001b[32m[I 2022-10-29 13:38:31,548]\u001b[0m Trial 34 finished with value: 4.4157065343317985 and parameters: {'x': 4.101358259396003}. Best is trial 22 with value: 0.0002795250714286117.\u001b[0m\n",
      "\u001b[32m[I 2022-10-29 13:38:31,558]\u001b[0m Trial 35 finished with value: 5.145909808528785 and parameters: {'x': -0.2684597877257566}. Best is trial 22 with value: 0.0002795250714286117.\u001b[0m\n",
      "\u001b[32m[I 2022-10-29 13:38:31,568]\u001b[0m Trial 36 finished with value: 19.13447224018575 and parameters: {'x': -2.3742967709319576}. Best is trial 22 with value: 0.0002795250714286117.\u001b[0m\n",
      "\u001b[32m[I 2022-10-29 13:38:31,578]\u001b[0m Trial 37 finished with value: 63.43632161121196 and parameters: {'x': -5.964692185590851}. Best is trial 22 with value: 0.0002795250714286117.\u001b[0m\n",
      "\u001b[32m[I 2022-10-29 13:38:31,586]\u001b[0m Trial 38 finished with value: 16.72733002316567 and parameters: {'x': 6.089905869719457}. Best is trial 22 with value: 0.0002795250714286117.\u001b[0m\n",
      "\u001b[32m[I 2022-10-29 13:38:31,593]\u001b[0m Trial 39 finished with value: 0.0037725581272270007 and parameters: {'x': 1.938578846256139}. Best is trial 22 with value: 0.0002795250714286117.\u001b[0m\n",
      "\u001b[32m[I 2022-10-29 13:38:31,600]\u001b[0m Trial 40 finished with value: 4.321100672346106 and parameters: {'x': 4.0787257328339654}. Best is trial 22 with value: 0.0002795250714286117.\u001b[0m\n",
      "\u001b[32m[I 2022-10-29 13:38:31,607]\u001b[0m Trial 41 finished with value: 0.006828897357258007 and parameters: {'x': 1.917362857277989}. Best is trial 22 with value: 0.0002795250714286117.\u001b[0m\n",
      "\u001b[32m[I 2022-10-29 13:38:31,615]\u001b[0m Trial 42 finished with value: 0.017876545578808967 and parameters: {'x': 2.1337031995832896}. Best is trial 22 with value: 0.0002795250714286117.\u001b[0m\n",
      "\u001b[32m[I 2022-10-29 13:38:31,625]\u001b[0m Trial 43 finished with value: 8.90168099480457 and parameters: {'x': 4.983568500102615}. Best is trial 22 with value: 0.0002795250714286117.\u001b[0m\n",
      "\u001b[32m[I 2022-10-29 13:38:31,632]\u001b[0m Trial 44 finished with value: 3.470459652545056 and parameters: {'x': 0.13708302585835663}. Best is trial 22 with value: 0.0002795250714286117.\u001b[0m\n"
     ]
    },
    {
     "name": "stderr",
     "output_type": "stream",
     "text": [
      "\u001b[32m[I 2022-10-29 13:38:31,637]\u001b[0m Trial 45 finished with value: 2.5110034759553472 and parameters: {'x': 3.5846146143322506}. Best is trial 22 with value: 0.0002795250714286117.\u001b[0m\n",
      "\u001b[32m[I 2022-10-29 13:38:31,648]\u001b[0m Trial 46 finished with value: 3.1315688868844105 and parameters: {'x': 0.2303760606037195}. Best is trial 22 with value: 0.0002795250714286117.\u001b[0m\n",
      "\u001b[32m[I 2022-10-29 13:38:31,655]\u001b[0m Trial 47 finished with value: 0.019650223196534873 and parameters: {'x': 1.859820746197824}. Best is trial 22 with value: 0.0002795250714286117.\u001b[0m\n",
      "\u001b[32m[I 2022-10-29 13:38:31,663]\u001b[0m Trial 48 finished with value: 50.662980094867265 and parameters: {'x': -5.117793203997097}. Best is trial 22 with value: 0.0002795250714286117.\u001b[0m\n",
      "\u001b[32m[I 2022-10-29 13:38:31,668]\u001b[0m Trial 49 finished with value: 0.27235058486342234 and parameters: {'x': 1.478127807922838}. Best is trial 22 with value: 0.0002795250714286117.\u001b[0m\n",
      "\u001b[32m[I 2022-10-29 13:38:31,677]\u001b[0m Trial 50 finished with value: 8.599252237556431 and parameters: {'x': -0.9324481645131311}. Best is trial 22 with value: 0.0002795250714286117.\u001b[0m\n",
      "\u001b[32m[I 2022-10-29 13:38:31,683]\u001b[0m Trial 51 finished with value: 0.16526995282031093 and parameters: {'x': 2.406534073381692}. Best is trial 22 with value: 0.0002795250714286117.\u001b[0m\n",
      "\u001b[32m[I 2022-10-29 13:38:31,687]\u001b[0m Trial 52 finished with value: 137.41478066570795 and parameters: {'x': -9.722405071729433}. Best is trial 22 with value: 0.0002795250714286117.\u001b[0m\n",
      "\u001b[32m[I 2022-10-29 13:38:31,697]\u001b[0m Trial 53 finished with value: 1.7174232022025273 and parameters: {'x': 0.6894950583067123}. Best is trial 22 with value: 0.0002795250714286117.\u001b[0m\n",
      "\u001b[32m[I 2022-10-29 13:38:31,702]\u001b[0m Trial 54 finished with value: 0.18115889525399512 and parameters: {'x': 1.574372351398555}. Best is trial 22 with value: 0.0002795250714286117.\u001b[0m\n",
      "\u001b[32m[I 2022-10-29 13:38:31,712]\u001b[0m Trial 55 finished with value: 1.5694498800989989 and parameters: {'x': 3.252776867642039}. Best is trial 22 with value: 0.0002795250714286117.\u001b[0m\n",
      "\u001b[32m[I 2022-10-29 13:38:31,745]\u001b[0m Trial 56 finished with value: 16.029109181505383 and parameters: {'x': -2.0036369942223007}. Best is trial 22 with value: 0.0002795250714286117.\u001b[0m\n",
      "\u001b[32m[I 2022-10-29 13:38:31,751]\u001b[0m Trial 57 finished with value: 3.058946292608755 and parameters: {'x': 3.7489843603099358}. Best is trial 22 with value: 0.0002795250714286117.\u001b[0m\n",
      "\u001b[32m[I 2022-10-29 13:38:31,759]\u001b[0m Trial 58 finished with value: 0.3591618860420089 and parameters: {'x': 2.5993011647260573}. Best is trial 22 with value: 0.0002795250714286117.\u001b[0m\n",
      "\u001b[32m[I 2022-10-29 13:38:31,764]\u001b[0m Trial 59 finished with value: 2.601096669429438 and parameters: {'x': 0.38720842343797}. Best is trial 22 with value: 0.0002795250714286117.\u001b[0m\n",
      "\u001b[32m[I 2022-10-29 13:38:31,771]\u001b[0m Trial 60 finished with value: 13.270620790651856 and parameters: {'x': 5.642886326891337}. Best is trial 22 with value: 0.0002795250714286117.\u001b[0m\n",
      "\u001b[32m[I 2022-10-29 13:38:31,779]\u001b[0m Trial 61 finished with value: 0.0032417753384763465 and parameters: {'x': 2.0569365905062496}. Best is trial 22 with value: 0.0002795250714286117.\u001b[0m\n",
      "\u001b[32m[I 2022-10-29 13:38:31,787]\u001b[0m Trial 62 finished with value: 0.06784197547773851 and parameters: {'x': 1.7395350782202361}. Best is trial 22 with value: 0.0002795250714286117.\u001b[0m\n",
      "\u001b[32m[I 2022-10-29 13:38:31,794]\u001b[0m Trial 63 finished with value: 0.7104107112347225 and parameters: {'x': 1.1571413456369315}. Best is trial 22 with value: 0.0002795250714286117.\u001b[0m\n",
      "\u001b[32m[I 2022-10-29 13:38:31,799]\u001b[0m Trial 64 finished with value: 0.4523846829309825 and parameters: {'x': 2.6725954823896623}. Best is trial 22 with value: 0.0002795250714286117.\u001b[0m\n",
      "\u001b[32m[I 2022-10-29 13:38:31,805]\u001b[0m Trial 65 finished with value: 9.01967723822929 and parameters: {'x': 5.003277749098356}. Best is trial 22 with value: 0.0002795250714286117.\u001b[0m\n",
      "\u001b[32m[I 2022-10-29 13:38:31,811]\u001b[0m Trial 66 finished with value: 4.172914900795063 and parameters: {'x': -0.042771377515130604}. Best is trial 22 with value: 0.0002795250714286117.\u001b[0m\n",
      "\u001b[32m[I 2022-10-29 13:38:31,817]\u001b[0m Trial 67 finished with value: 1.3826541365674412 and parameters: {'x': 3.175863145339389}. Best is trial 22 with value: 0.0002795250714286117.\u001b[0m\n",
      "\u001b[32m[I 2022-10-29 13:38:31,823]\u001b[0m Trial 68 finished with value: 1.2271033127424085 and parameters: {'x': 0.8922530466110916}. Best is trial 22 with value: 0.0002795250714286117.\u001b[0m\n",
      "\u001b[32m[I 2022-10-29 13:38:31,830]\u001b[0m Trial 69 finished with value: 5.273524462215624 and parameters: {'x': 4.296415568274964}. Best is trial 22 with value: 0.0002795250714286117.\u001b[0m\n",
      "\u001b[32m[I 2022-10-29 13:38:31,835]\u001b[0m Trial 70 finished with value: 0.09135290884927712 and parameters: {'x': 2.3022464372813634}. Best is trial 22 with value: 0.0002795250714286117.\u001b[0m\n",
      "\u001b[32m[I 2022-10-29 13:38:31,841]\u001b[0m Trial 71 finished with value: 0.0685900803443676 and parameters: {'x': 1.7381029203210399}. Best is trial 22 with value: 0.0002795250714286117.\u001b[0m\n",
      "\u001b[32m[I 2022-10-29 13:38:31,847]\u001b[0m Trial 72 finished with value: 6.15311588261213 and parameters: {'x': -0.4805474965442871}. Best is trial 22 with value: 0.0002795250714286117.\u001b[0m\n",
      "\u001b[32m[I 2022-10-29 13:38:31,853]\u001b[0m Trial 73 finished with value: 0.1892757093652334 and parameters: {'x': 2.4350582827222502}. Best is trial 22 with value: 0.0002795250714286117.\u001b[0m\n",
      "\u001b[32m[I 2022-10-29 13:38:31,861]\u001b[0m Trial 74 finished with value: 2.7888064789723956 and parameters: {'x': 3.6699719994575943}. Best is trial 22 with value: 0.0002795250714286117.\u001b[0m\n",
      "\u001b[32m[I 2022-10-29 13:38:31,866]\u001b[0m Trial 75 finished with value: 0.0011246632755703976 and parameters: {'x': 2.033535999695408}. Best is trial 22 with value: 0.0002795250714286117.\u001b[0m\n",
      "\u001b[32m[I 2022-10-29 13:38:31,872]\u001b[0m Trial 76 finished with value: 0.7469738491863354 and parameters: {'x': 1.1357235111456894}. Best is trial 22 with value: 0.0002795250714286117.\u001b[0m\n",
      "\u001b[32m[I 2022-10-29 13:38:31,880]\u001b[0m Trial 77 finished with value: 0.8607731055347123 and parameters: {'x': 2.927778586482094}. Best is trial 22 with value: 0.0002795250714286117.\u001b[0m\n",
      "\u001b[32m[I 2022-10-29 13:38:31,885]\u001b[0m Trial 78 finished with value: 2.0004912587330628 and parameters: {'x': 0.5856127621004696}. Best is trial 22 with value: 0.0002795250714286117.\u001b[0m\n",
      "\u001b[32m[I 2022-10-29 13:38:31,891]\u001b[0m Trial 79 finished with value: 8.749262583064741 and parameters: {'x': -0.9579152427114508}. Best is trial 22 with value: 0.0002795250714286117.\u001b[0m\n",
      "\u001b[32m[I 2022-10-29 13:38:31,897]\u001b[0m Trial 80 finished with value: 0.0003153725891474043 and parameters: {'x': 1.982241267242638}. Best is trial 22 with value: 0.0002795250714286117.\u001b[0m\n",
      "\u001b[32m[I 2022-10-29 13:38:31,903]\u001b[0m Trial 81 finished with value: 0.08357271515682907 and parameters: {'x': 1.7109105412561207}. Best is trial 22 with value: 0.0002795250714286117.\u001b[0m\n",
      "\u001b[32m[I 2022-10-29 13:38:31,910]\u001b[0m Trial 82 finished with value: 7.151661748688605 and parameters: {'x': 4.674259102758857}. Best is trial 22 with value: 0.0002795250714286117.\u001b[0m\n",
      "\u001b[32m[I 2022-10-29 13:38:31,915]\u001b[0m Trial 83 finished with value: 0.002238581564760581 and parameters: {'x': 2.0473136509345937}. Best is trial 22 with value: 0.0002795250714286117.\u001b[0m\n",
      "\u001b[32m[I 2022-10-29 13:38:31,921]\u001b[0m Trial 84 finished with value: 0.5710862955126415 and parameters: {'x': 1.2442974821315986}. Best is trial 22 with value: 0.0002795250714286117.\u001b[0m\n",
      "\u001b[32m[I 2022-10-29 13:38:31,929]\u001b[0m Trial 85 finished with value: 0.8980921604840854 and parameters: {'x': 2.9476772448909414}. Best is trial 22 with value: 0.0002795250714286117.\u001b[0m\n",
      "\u001b[32m[I 2022-10-29 13:38:31,934]\u001b[0m Trial 86 finished with value: 0.0610183168194105 and parameters: {'x': 2.2470188592383393}. Best is trial 22 with value: 0.0002795250714286117.\u001b[0m\n",
      "\u001b[32m[I 2022-10-29 13:38:31,941]\u001b[0m Trial 87 finished with value: 3.966870010154326 and parameters: {'x': 3.991700281205565}. Best is trial 22 with value: 0.0002795250714286117.\u001b[0m\n",
      "\u001b[32m[I 2022-10-29 13:38:31,948]\u001b[0m Trial 88 finished with value: 1.9674281943004686 and parameters: {'x': 3.4026504177094408}. Best is trial 22 with value: 0.0002795250714286117.\u001b[0m\n",
      "\u001b[32m[I 2022-10-29 13:38:31,955]\u001b[0m Trial 89 finished with value: 3.593718579535682 and parameters: {'x': 0.10428942622148085}. Best is trial 22 with value: 0.0002795250714286117.\u001b[0m\n"
     ]
    },
    {
     "name": "stderr",
     "output_type": "stream",
     "text": [
      "\u001b[32m[I 2022-10-29 13:38:31,962]\u001b[0m Trial 90 finished with value: 1.8498195669507698 and parameters: {'x': 0.6399192792518638}. Best is trial 22 with value: 0.0002795250714286117.\u001b[0m\n",
      "\u001b[32m[I 2022-10-29 13:38:31,967]\u001b[0m Trial 91 finished with value: 0.010822006033193348 and parameters: {'x': 1.895971128847837}. Best is trial 22 with value: 0.0002795250714286117.\u001b[0m\n",
      "\u001b[32m[I 2022-10-29 13:38:31,973]\u001b[0m Trial 92 finished with value: 0.31638471506958377 and parameters: {'x': 1.4375191424860898}. Best is trial 22 with value: 0.0002795250714286117.\u001b[0m\n",
      "\u001b[32m[I 2022-10-29 13:38:31,980]\u001b[0m Trial 93 finished with value: 0.004436747753381965 and parameters: {'x': 2.0666089164705594}. Best is trial 22 with value: 0.0002795250714286117.\u001b[0m\n",
      "\u001b[32m[I 2022-10-29 13:38:31,985]\u001b[0m Trial 94 finished with value: 0.6114353531071086 and parameters: {'x': 2.7819433183467384}. Best is trial 22 with value: 0.0002795250714286117.\u001b[0m\n",
      "\u001b[32m[I 2022-10-29 13:38:31,993]\u001b[0m Trial 95 finished with value: 1.5860839193383085 and parameters: {'x': 0.740601763008099}. Best is trial 22 with value: 0.0002795250714286117.\u001b[0m\n",
      "\u001b[32m[I 2022-10-29 13:38:31,998]\u001b[0m Trial 96 finished with value: 0.09612264617819542 and parameters: {'x': 2.3100365239422533}. Best is trial 22 with value: 0.0002795250714286117.\u001b[0m\n",
      "\u001b[32m[I 2022-10-29 13:38:32,003]\u001b[0m Trial 97 finished with value: 1.9067784669294923 and parameters: {'x': 3.3808614944770863}. Best is trial 22 with value: 0.0002795250714286117.\u001b[0m\n",
      "\u001b[32m[I 2022-10-29 13:38:32,010]\u001b[0m Trial 98 finished with value: 0.4030353557917333 and parameters: {'x': 1.365149343710087}. Best is trial 22 with value: 0.0002795250714286117.\u001b[0m\n",
      "\u001b[32m[I 2022-10-29 13:38:32,015]\u001b[0m Trial 99 finished with value: 0.5113461661081371 and parameters: {'x': 2.715084726524163}. Best is trial 22 with value: 0.0002795250714286117.\u001b[0m\n"
     ]
    }
   ],
   "source": [
    "study = optuna.create_study()\n",
    "study.optimize(objective, n_trials=100)"
   ]
  },
  {
   "cell_type": "code",
   "execution_count": 4,
   "id": "ccb2e997",
   "metadata": {},
   "outputs": [
    {
     "name": "stdout",
     "output_type": "stream",
     "text": [
      "Found x: 1.9832809966975118, (x - 2)^2: 0.0002795250714286117\n"
     ]
    }
   ],
   "source": [
    "best_params = study.best_params\n",
    "found_x = best_params[\"x\"]\n",
    "#print(\"Found x: {}, (x - 2)^2: {}\".format(found_x, (found_x - 2) ** 2))\n",
    "print(f\"Found x: {found_x}, (x - 2)^2: {f(found_x)}\")"
   ]
  },
  {
   "cell_type": "code",
   "execution_count": 5,
   "id": "ec3b3959",
   "metadata": {},
   "outputs": [
    {
     "data": {
      "text/plain": [
       "{'x': 1.9832809966975118}"
      ]
     },
     "execution_count": 5,
     "metadata": {},
     "output_type": "execute_result"
    }
   ],
   "source": [
    "best_params"
   ]
  },
  {
   "cell_type": "code",
   "execution_count": 6,
   "id": "aab82db5",
   "metadata": {},
   "outputs": [
    {
     "data": {
      "text/plain": [
       "0.0002795250714286117"
      ]
     },
     "execution_count": 6,
     "metadata": {},
     "output_type": "execute_result"
    }
   ],
   "source": [
    "study.best_value"
   ]
  },
  {
   "cell_type": "code",
   "execution_count": 7,
   "id": "ce44e36d",
   "metadata": {},
   "outputs": [
    {
     "data": {
      "text/plain": [
       "FrozenTrial(number=22, values=[0.0002795250714286117], datetime_start=datetime.datetime(2022, 10, 29, 13, 38, 31, 451991), datetime_complete=datetime.datetime(2022, 10, 29, 13, 38, 31, 456985), params={'x': 1.9832809966975118}, distributions={'x': FloatDistribution(high=10.0, log=False, low=-10.0, step=None)}, user_attrs={}, system_attrs={}, intermediate_values={}, trial_id=22, state=TrialState.COMPLETE, value=None)"
      ]
     },
     "execution_count": 7,
     "metadata": {},
     "output_type": "execute_result"
    }
   ],
   "source": [
    "study.best_trial"
   ]
  },
  {
   "cell_type": "code",
   "execution_count": 8,
   "id": "082b5164",
   "metadata": {},
   "outputs": [],
   "source": [
    "# Floating point parameter (log)\n",
    "    #learning_rate = trial.suggest_float(\"learning_rate\", 1e-5, 1e-2, log=True)\n",
    "    # svm - supported vector machine\n",
    "    # svc - supported vector classifier"
   ]
  },
  {
   "cell_type": "markdown",
   "id": "9ab7474d",
   "metadata": {},
   "source": [
    "## Classic machine learning\n",
    "\n",
    "Branches vs loops"
   ]
  },
  {
   "cell_type": "code",
   "execution_count": 9,
   "id": "1b43d33e",
   "metadata": {},
   "outputs": [],
   "source": [
    "def objective(trial):\n",
    "    classifier_name = trial.suggest_categorical(\"classifier\", [\"SVC\", \"RandomForest\"])\n",
    "    if classifier_name == \"SVC\":\n",
    "        svc_c = trial.suggest_float(\"svc_c\", 1e-10, 1e10, log=True)\n",
    "        classifier_obj = sklearn.svm.SVC(C=svc_c)\n",
    "    else:\n",
    "        rf_max_depth = trial.suggest_int(\"rf_max_depth\", 2, 32, log=True)\n",
    "        classifier_obj = sklearn.ensemble.RandomForestClassifier(max_depth=rf_max_depth)\n",
    "    classifier_obj.learn()"
   ]
  },
  {
   "cell_type": "code",
   "execution_count": 10,
   "id": "bcad2f18",
   "metadata": {},
   "outputs": [],
   "source": [
    "import logging\n",
    "import sys\n",
    "\n",
    "import sklearn.datasets\n",
    "import sklearn.linear_model\n",
    "import sklearn.model_selection\n",
    "\n",
    "\n",
    "def objective(trial):\n",
    "    iris = sklearn.datasets.load_iris()\n",
    "    classes = list(set(iris.target))\n",
    "    train_x, valid_x, train_y, valid_y = sklearn.model_selection.train_test_split(\n",
    "        iris.data, iris.target, test_size=0.25, random_state=0\n",
    "    )\n",
    "\n",
    "    alpha = trial.suggest_float(\"alpha\", 1e-5, 1e-1, log=True)\n",
    "    clf = sklearn.linear_model.SGDClassifier(alpha=alpha)\n",
    "\n",
    "    for step in range(100):\n",
    "        clf.partial_fit(train_x, train_y, classes=classes)\n",
    "\n",
    "        # Report intermediate objective value.\n",
    "        intermediate_value = 1.0 - clf.score(valid_x, valid_y)\n",
    "        trial.report(intermediate_value, step)\n",
    "\n",
    "        # Handle pruning based on the intermediate value.\n",
    "        if trial.should_prune():\n",
    "            raise optuna.TrialPruned()\n",
    "\n",
    "    return 1.0 - clf.score(valid_x, valid_y)"
   ]
  },
  {
   "cell_type": "code",
   "execution_count": 11,
   "id": "564aad5f",
   "metadata": {},
   "outputs": [
    {
     "name": "stderr",
     "output_type": "stream",
     "text": [
      "\u001b[32m[I 2022-10-29 14:02:14,900]\u001b[0m A new study created in memory with name: no-name-345d1e50-47e4-4e5d-b780-cf198b33e028\u001b[0m\n"
     ]
    },
    {
     "name": "stdout",
     "output_type": "stream",
     "text": [
      "A new study created in memory with name: no-name-345d1e50-47e4-4e5d-b780-cf198b33e028\n"
     ]
    },
    {
     "name": "stderr",
     "output_type": "stream",
     "text": [
      "\u001b[32m[I 2022-10-29 14:02:15,153]\u001b[0m Trial 0 finished with value: 0.39473684210526316 and parameters: {'alpha': 0.0007451804175379596}. Best is trial 0 with value: 0.39473684210526316.\u001b[0m\n"
     ]
    },
    {
     "name": "stdout",
     "output_type": "stream",
     "text": [
      "Trial 0 finished with value: 0.39473684210526316 and parameters: {'alpha': 0.0007451804175379596}. Best is trial 0 with value: 0.39473684210526316.\n"
     ]
    },
    {
     "name": "stderr",
     "output_type": "stream",
     "text": [
      "\u001b[32m[I 2022-10-29 14:02:15,377]\u001b[0m Trial 1 finished with value: 0.3157894736842105 and parameters: {'alpha': 3.235345260927569e-05}. Best is trial 1 with value: 0.3157894736842105.\u001b[0m\n"
     ]
    },
    {
     "name": "stdout",
     "output_type": "stream",
     "text": [
      "Trial 1 finished with value: 0.3157894736842105 and parameters: {'alpha': 3.235345260927569e-05}. Best is trial 1 with value: 0.3157894736842105.\n"
     ]
    },
    {
     "name": "stderr",
     "output_type": "stream",
     "text": [
      "\u001b[32m[I 2022-10-29 14:02:15,591]\u001b[0m Trial 2 finished with value: 0.1842105263157895 and parameters: {'alpha': 0.01896340928186395}. Best is trial 2 with value: 0.1842105263157895.\u001b[0m\n"
     ]
    },
    {
     "name": "stdout",
     "output_type": "stream",
     "text": [
      "Trial 2 finished with value: 0.1842105263157895 and parameters: {'alpha': 0.01896340928186395}. Best is trial 2 with value: 0.1842105263157895.\n"
     ]
    },
    {
     "name": "stderr",
     "output_type": "stream",
     "text": [
      "\u001b[32m[I 2022-10-29 14:02:15,819]\u001b[0m Trial 3 finished with value: 0.3157894736842105 and parameters: {'alpha': 1.4605160479702321e-05}. Best is trial 2 with value: 0.1842105263157895.\u001b[0m\n"
     ]
    },
    {
     "name": "stdout",
     "output_type": "stream",
     "text": [
      "Trial 3 finished with value: 0.3157894736842105 and parameters: {'alpha': 1.4605160479702321e-05}. Best is trial 2 with value: 0.1842105263157895.\n"
     ]
    },
    {
     "name": "stderr",
     "output_type": "stream",
     "text": [
      "\u001b[32m[I 2022-10-29 14:02:16,049]\u001b[0m Trial 4 finished with value: 0.07894736842105265 and parameters: {'alpha': 1.7806786216597497e-05}. Best is trial 4 with value: 0.07894736842105265.\u001b[0m\n"
     ]
    },
    {
     "name": "stdout",
     "output_type": "stream",
     "text": [
      "Trial 4 finished with value: 0.07894736842105265 and parameters: {'alpha': 1.7806786216597497e-05}. Best is trial 4 with value: 0.07894736842105265.\n"
     ]
    },
    {
     "name": "stderr",
     "output_type": "stream",
     "text": [
      "\u001b[32m[I 2022-10-29 14:02:16,074]\u001b[0m Trial 5 pruned. \u001b[0m\n"
     ]
    },
    {
     "name": "stdout",
     "output_type": "stream",
     "text": [
      "Trial 5 pruned. \n"
     ]
    },
    {
     "name": "stderr",
     "output_type": "stream",
     "text": [
      "\u001b[32m[I 2022-10-29 14:02:16,086]\u001b[0m Trial 6 pruned. \u001b[0m\n"
     ]
    },
    {
     "name": "stdout",
     "output_type": "stream",
     "text": [
      "Trial 6 pruned. \n"
     ]
    },
    {
     "name": "stderr",
     "output_type": "stream",
     "text": [
      "\u001b[32m[I 2022-10-29 14:02:16,328]\u001b[0m Trial 7 finished with value: 0.10526315789473684 and parameters: {'alpha': 0.0006044693284621512}. Best is trial 4 with value: 0.07894736842105265.\u001b[0m\n"
     ]
    },
    {
     "name": "stdout",
     "output_type": "stream",
     "text": [
      "Trial 7 finished with value: 0.10526315789473684 and parameters: {'alpha': 0.0006044693284621512}. Best is trial 4 with value: 0.07894736842105265.\n"
     ]
    },
    {
     "name": "stderr",
     "output_type": "stream",
     "text": [
      "\u001b[32m[I 2022-10-29 14:02:16,337]\u001b[0m Trial 8 pruned. \u001b[0m\n"
     ]
    },
    {
     "name": "stdout",
     "output_type": "stream",
     "text": [
      "Trial 8 pruned. \n"
     ]
    },
    {
     "name": "stderr",
     "output_type": "stream",
     "text": [
      "\u001b[32m[I 2022-10-29 14:02:16,401]\u001b[0m Trial 9 pruned. \u001b[0m\n"
     ]
    },
    {
     "name": "stdout",
     "output_type": "stream",
     "text": [
      "Trial 9 pruned. \n"
     ]
    },
    {
     "name": "stderr",
     "output_type": "stream",
     "text": [
      "\u001b[32m[I 2022-10-29 14:02:16,421]\u001b[0m Trial 10 pruned. \u001b[0m\n"
     ]
    },
    {
     "name": "stdout",
     "output_type": "stream",
     "text": [
      "Trial 10 pruned. \n"
     ]
    },
    {
     "name": "stderr",
     "output_type": "stream",
     "text": [
      "\u001b[32m[I 2022-10-29 14:02:16,655]\u001b[0m Trial 11 finished with value: 0.07894736842105265 and parameters: {'alpha': 0.0019601453674756852}. Best is trial 4 with value: 0.07894736842105265.\u001b[0m\n"
     ]
    },
    {
     "name": "stdout",
     "output_type": "stream",
     "text": [
      "Trial 11 finished with value: 0.07894736842105265 and parameters: {'alpha': 0.0019601453674756852}. Best is trial 4 with value: 0.07894736842105265.\n"
     ]
    },
    {
     "name": "stderr",
     "output_type": "stream",
     "text": [
      "\u001b[32m[I 2022-10-29 14:02:16,895]\u001b[0m Trial 12 finished with value: 0.02631578947368418 and parameters: {'alpha': 0.0029435223811826597}. Best is trial 12 with value: 0.02631578947368418.\u001b[0m\n"
     ]
    },
    {
     "name": "stdout",
     "output_type": "stream",
     "text": [
      "Trial 12 finished with value: 0.02631578947368418 and parameters: {'alpha': 0.0029435223811826597}. Best is trial 12 with value: 0.02631578947368418.\n"
     ]
    },
    {
     "name": "stderr",
     "output_type": "stream",
     "text": [
      "\u001b[32m[I 2022-10-29 14:02:16,911]\u001b[0m Trial 13 pruned. \u001b[0m\n"
     ]
    },
    {
     "name": "stdout",
     "output_type": "stream",
     "text": [
      "Trial 13 pruned. \n"
     ]
    },
    {
     "name": "stderr",
     "output_type": "stream",
     "text": [
      "\u001b[32m[I 2022-10-29 14:02:16,928]\u001b[0m Trial 14 pruned. \u001b[0m\n"
     ]
    },
    {
     "name": "stdout",
     "output_type": "stream",
     "text": [
      "Trial 14 pruned. \n"
     ]
    },
    {
     "name": "stderr",
     "output_type": "stream",
     "text": [
      "\u001b[32m[I 2022-10-29 14:02:16,943]\u001b[0m Trial 15 pruned. \u001b[0m\n"
     ]
    },
    {
     "name": "stdout",
     "output_type": "stream",
     "text": [
      "Trial 15 pruned. \n"
     ]
    },
    {
     "name": "stderr",
     "output_type": "stream",
     "text": [
      "\u001b[32m[I 2022-10-29 14:02:17,159]\u001b[0m Trial 16 finished with value: 0.07894736842105265 and parameters: {'alpha': 0.0003690848275355464}. Best is trial 12 with value: 0.02631578947368418.\u001b[0m\n"
     ]
    },
    {
     "name": "stdout",
     "output_type": "stream",
     "text": [
      "Trial 16 finished with value: 0.07894736842105265 and parameters: {'alpha': 0.0003690848275355464}. Best is trial 12 with value: 0.02631578947368418.\n"
     ]
    },
    {
     "name": "stderr",
     "output_type": "stream",
     "text": [
      "\u001b[32m[I 2022-10-29 14:02:17,175]\u001b[0m Trial 17 pruned. \u001b[0m\n"
     ]
    },
    {
     "name": "stdout",
     "output_type": "stream",
     "text": [
      "Trial 17 pruned. \n"
     ]
    },
    {
     "name": "stderr",
     "output_type": "stream",
     "text": [
      "\u001b[32m[I 2022-10-29 14:02:17,191]\u001b[0m Trial 18 pruned. \u001b[0m\n"
     ]
    },
    {
     "name": "stdout",
     "output_type": "stream",
     "text": [
      "Trial 18 pruned. \n"
     ]
    },
    {
     "name": "stderr",
     "output_type": "stream",
     "text": [
      "\u001b[32m[I 2022-10-29 14:02:17,463]\u001b[0m Trial 19 finished with value: 0.10526315789473684 and parameters: {'alpha': 0.0015151658127694927}. Best is trial 12 with value: 0.02631578947368418.\u001b[0m\n"
     ]
    },
    {
     "name": "stdout",
     "output_type": "stream",
     "text": [
      "Trial 19 finished with value: 0.10526315789473684 and parameters: {'alpha': 0.0015151658127694927}. Best is trial 12 with value: 0.02631578947368418.\n"
     ]
    }
   ],
   "source": [
    "# Add stream handler of stdout to show the messages\n",
    "optuna.logging.get_logger(\"optuna\").addHandler(logging.StreamHandler(sys.stdout))\n",
    "study = optuna.create_study(pruner=optuna.pruners.MedianPruner())\n",
    "study.optimize(objective, n_trials=20)"
   ]
  },
  {
   "cell_type": "code",
   "execution_count": null,
   "id": "1a5893ee",
   "metadata": {},
   "outputs": [],
   "source": []
  }
 ],
 "metadata": {
  "kernelspec": {
   "display_name": "Python [conda env:MAI_114M] *",
   "language": "python",
   "name": "conda-env-MAI_114M-py"
  },
  "language_info": {
   "codemirror_mode": {
    "name": "ipython",
    "version": 3
   },
   "file_extension": ".py",
   "mimetype": "text/x-python",
   "name": "python",
   "nbconvert_exporter": "python",
   "pygments_lexer": "ipython3",
   "version": "3.7.12"
  }
 },
 "nbformat": 4,
 "nbformat_minor": 5
}

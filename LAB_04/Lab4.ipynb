{
 "cells": [
  {
   "cell_type": "code",
   "execution_count": 1,
   "id": "77af436b",
   "metadata": {},
   "outputs": [],
   "source": [
    "import optuna\n",
    "import numpy as np"
   ]
  },
  {
   "cell_type": "markdown",
   "id": "534b929d",
   "metadata": {},
   "source": [
    "1) Himmelblau through optuna\n",
    "\n",
    "2) Sklearn dataset, its 1 parameter through optuna"
   ]
  },
  {
   "cell_type": "markdown",
   "id": "245374d7",
   "metadata": {},
   "source": [
    "## Функция Химмельблау\n",
    "$$ f(x, y) = (x^2 + y - 11)^2 + (x + y^2 - 7)^2 $$"
   ]
  },
  {
   "cell_type": "code",
   "execution_count": 2,
   "id": "c14433af",
   "metadata": {},
   "outputs": [],
   "source": [
    "def Himmelblau(x: np.float32, y: np.float32) -> np.float64:\n",
    "    '''\n",
    "    Функция Химмельблау\n",
    "    \n",
    "    Args:\n",
    "        x(np.ndarray): Аргумент 1\n",
    "        y(np.ndarray): Аргумент 2\n",
    "        \n",
    "    Returns:\n",
    "        np.float64: Результат функции\n",
    "    '''\n",
    "    return np.square(np.square(x)+y-11)+np.square(x+np.square(y)-7);\n",
    "\n",
    "def objective(trial):\n",
    "    x = trial.suggest_float(\"x\", -10, 10)\n",
    "    y = trial.suggest_float(\"y\", -10, 10)\n",
    "    return Himmelblau(x, y)"
   ]
  },
  {
   "cell_type": "code",
   "execution_count": 3,
   "id": "162ea168",
   "metadata": {},
   "outputs": [
    {
     "name": "stderr",
     "output_type": "stream",
     "text": [
      "\u001b[32m[I 2022-10-29 15:06:24,319]\u001b[0m A new study created in memory with name: no-name-84f1c977-e754-4cb2-93d5-6845865dffa8\u001b[0m\n",
      "\u001b[32m[I 2022-10-29 15:06:24,323]\u001b[0m Trial 0 finished with value: 407.68546309587043 and parameters: {'x': 0.0901344913429547, 'y': 5.121410792420299}. Best is trial 0 with value: 407.68546309587043.\u001b[0m\n",
      "\u001b[32m[I 2022-10-29 15:06:24,327]\u001b[0m Trial 1 finished with value: 114.57296372081872 and parameters: {'x': 4.5295966633091655, 'y': 1.1164144793392765}. Best is trial 1 with value: 114.57296372081872.\u001b[0m\n",
      "\u001b[32m[I 2022-10-29 15:06:24,329]\u001b[0m Trial 2 finished with value: 94.63938030875184 and parameters: {'x': -1.3611906210940727, 'y': 1.5228100418330897}. Best is trial 2 with value: 94.63938030875184.\u001b[0m\n",
      "\u001b[32m[I 2022-10-29 15:06:24,331]\u001b[0m Trial 3 finished with value: 7550.223113841498 and parameters: {'x': 9.231281988391903, 'y': 5.655439954165782}. Best is trial 2 with value: 94.63938030875184.\u001b[0m\n",
      "\u001b[32m[I 2022-10-29 15:06:24,336]\u001b[0m Trial 4 finished with value: 928.2849350864279 and parameters: {'x': 6.585622838358081, 'y': -2.2821724290399086}. Best is trial 2 with value: 94.63938030875184.\u001b[0m\n",
      "\u001b[32m[I 2022-10-29 15:06:24,338]\u001b[0m Trial 5 finished with value: 2582.6942338034255 and parameters: {'x': 6.035005890910149, 'y': -6.950520634029154}. Best is trial 2 with value: 94.63938030875184.\u001b[0m\n",
      "\u001b[32m[I 2022-10-29 15:06:24,340]\u001b[0m Trial 6 finished with value: 18.469804635091595 and parameters: {'x': 3.8972405713492346, 'y': -0.7366152254773191}. Best is trial 6 with value: 18.469804635091595.\u001b[0m\n",
      "\u001b[32m[I 2022-10-29 15:06:24,343]\u001b[0m Trial 7 finished with value: 1022.8261544900558 and parameters: {'x': -4.865653367261322, 'y': 6.142148298425536}. Best is trial 6 with value: 18.469804635091595.\u001b[0m\n",
      "\u001b[32m[I 2022-10-29 15:06:24,345]\u001b[0m Trial 8 finished with value: 161.01144478964525 and parameters: {'x': 1.1097434518529337, 'y': -2.7836915358431895}. Best is trial 6 with value: 18.469804635091595.\u001b[0m\n",
      "\u001b[32m[I 2022-10-29 15:06:24,347]\u001b[0m Trial 9 finished with value: 439.35998138034176 and parameters: {'x': -2.107149608561267, 'y': -5.147232235372298}. Best is trial 6 with value: 18.469804635091595.\u001b[0m\n",
      "\u001b[32m[I 2022-10-29 15:06:24,975]\u001b[0m Trial 10 finished with value: 11016.236458999738 and parameters: {'x': -9.698743457027387, 'y': -9.572459891366735}. Best is trial 6 with value: 18.469804635091595.\u001b[0m\n",
      "\u001b[32m[I 2022-10-29 15:06:24,981]\u001b[0m Trial 11 finished with value: 45.155470329321304 and parameters: {'x': 2.2974009122792225, 'y': 0.5969515566651247}. Best is trial 6 with value: 18.469804635091595.\u001b[0m\n",
      "\u001b[32m[I 2022-10-29 15:06:24,994]\u001b[0m Trial 12 finished with value: 7824.073556070271 and parameters: {'x': 3.244741706042605, 'y': 9.578050264851717}. Best is trial 6 with value: 18.469804635091595.\u001b[0m\n",
      "\u001b[32m[I 2022-10-29 15:06:25,003]\u001b[0m Trial 13 finished with value: 34.6635158119647 and parameters: {'x': 2.665431738273476, 'y': -1.1143982270980932}. Best is trial 6 with value: 18.469804635091595.\u001b[0m\n",
      "\u001b[32m[I 2022-10-29 15:06:25,013]\u001b[0m Trial 14 finished with value: 7068.280735380901 and parameters: {'x': 9.86126832544558, 'y': -3.1283934453234394}. Best is trial 6 with value: 18.469804635091595.\u001b[0m\n",
      "\u001b[32m[I 2022-10-29 15:06:25,023]\u001b[0m Trial 15 finished with value: 96.3563750696325 and parameters: {'x': -4.149372502369561, 'y': 2.6237687413727095}. Best is trial 6 with value: 18.469804635091595.\u001b[0m\n",
      "\u001b[32m[I 2022-10-29 15:06:25,035]\u001b[0m Trial 16 finished with value: 304.2362537456017 and parameters: {'x': 5.416002415529696, 'y': -0.9073120568966015}. Best is trial 6 with value: 18.469804635091595.\u001b[0m\n",
      "\u001b[32m[I 2022-10-29 15:06:25,044]\u001b[0m Trial 17 finished with value: 2176.279380892046 and parameters: {'x': 7.31526421982977, 'y': -5.2705536232083094}. Best is trial 6 with value: 18.469804635091595.\u001b[0m\n",
      "\u001b[32m[I 2022-10-29 15:06:25,055]\u001b[0m Trial 18 finished with value: 167.9808673180701 and parameters: {'x': 3.0285681473703714, 'y': 4.090612446414662}. Best is trial 6 with value: 18.469804635091595.\u001b[0m\n",
      "\u001b[32m[I 2022-10-29 15:06:25,067]\u001b[0m Trial 19 finished with value: 2657.647576207169 and parameters: {'x': -7.8504559995949315, 'y': -0.9824365923724014}. Best is trial 6 with value: 18.469804635091595.\u001b[0m\n",
      "\u001b[32m[I 2022-10-29 15:06:25,074]\u001b[0m Trial 20 finished with value: 3626.765440917785 and parameters: {'x': -1.4554621817070919, 'y': 8.287047678950966}. Best is trial 6 with value: 18.469804635091595.\u001b[0m\n",
      "\u001b[32m[I 2022-10-29 15:06:25,089]\u001b[0m Trial 21 finished with value: 66.74002037950541 and parameters: {'x': 2.0757351853622543, 'y': 0.15474261981006765}. Best is trial 6 with value: 18.469804635091595.\u001b[0m\n",
      "\u001b[32m[I 2022-10-29 15:06:25,102]\u001b[0m Trial 22 finished with value: 89.79827792574332 and parameters: {'x': 4.018911043006207, 'y': 2.8410790054713}. Best is trial 6 with value: 18.469804635091595.\u001b[0m\n",
      "\u001b[32m[I 2022-10-29 15:06:25,123]\u001b[0m Trial 23 finished with value: 440.37565289779286 and parameters: {'x': 1.228741892703695, 'y': -4.616055594884415}. Best is trial 6 with value: 18.469804635091595.\u001b[0m\n",
      "\u001b[32m[I 2022-10-29 15:06:25,135]\u001b[0m Trial 24 finished with value: 3335.3896361872276 and parameters: {'x': 8.346544833889055, 'y': -0.9562525556907003}. Best is trial 6 with value: 18.469804635091595.\u001b[0m\n",
      "\u001b[32m[I 2022-10-29 15:06:25,143]\u001b[0m Trial 25 finished with value: 28.465939458289572 and parameters: {'x': 2.4204022254358106, 'y': 1.0660403963278884}. Best is trial 6 with value: 18.469804635091595.\u001b[0m\n",
      "\u001b[32m[I 2022-10-29 15:06:25,154]\u001b[0m Trial 26 finished with value: 247.08973128019608 and parameters: {'x': 4.704832948621282, 'y': 3.0211647316349097}. Best is trial 6 with value: 18.469804635091595.\u001b[0m\n",
      "\u001b[32m[I 2022-10-29 15:06:25,166]\u001b[0m Trial 27 finished with value: 248.08608779836132 and parameters: {'x': -0.0075614454508081685, 'y': -3.595605302674676}. Best is trial 6 with value: 18.469804635091595.\u001b[0m\n",
      "\u001b[32m[I 2022-10-29 15:06:25,177]\u001b[0m Trial 28 finished with value: 1809.1850654980508 and parameters: {'x': -4.040052049563436, 'y': -7.316268988572718}. Best is trial 6 with value: 18.469804635091595.\u001b[0m\n",
      "\u001b[32m[I 2022-10-29 15:06:25,189]\u001b[0m Trial 29 finished with value: 165.83480960561855 and parameters: {'x': 0.56572699271024, 'y': -1.7132459575415422}. Best is trial 6 with value: 18.469804635091595.\u001b[0m\n",
      "\u001b[32m[I 2022-10-29 15:06:25,201]\u001b[0m Trial 30 finished with value: 161.81075920294904 and parameters: {'x': -0.9254449838680734, 'y': 4.389791301730058}. Best is trial 6 with value: 18.469804635091595.\u001b[0m\n",
      "\u001b[32m[I 2022-10-29 15:06:25,213]\u001b[0m Trial 31 finished with value: 29.85430489271741 and parameters: {'x': 2.519166376107267, 'y': 0.7874400071170975}. Best is trial 6 with value: 18.469804635091595.\u001b[0m\n",
      "\u001b[32m[I 2022-10-29 15:06:25,223]\u001b[0m Trial 32 finished with value: 39.884512647410396 and parameters: {'x': 3.9642349586819092, 'y': 1.5761253983311319}. Best is trial 6 with value: 18.469804635091595.\u001b[0m\n",
      "\u001b[32m[I 2022-10-29 15:06:25,236]\u001b[0m Trial 33 finished with value: 35.90062137904268 and parameters: {'x': 2.148039365883607, 'y': 1.298648403279609}. Best is trial 6 with value: 18.469804635091595.\u001b[0m\n",
      "\u001b[32m[I 2022-10-29 15:06:25,246]\u001b[0m Trial 34 finished with value: 229.25077879839145 and parameters: {'x': 5.138472897137829, 'y': -0.3620816310180037}. Best is trial 6 with value: 18.469804635091595.\u001b[0m\n",
      "\u001b[32m[I 2022-10-29 15:06:25,258]\u001b[0m Trial 35 finished with value: 84.93192311401512 and parameters: {'x': 0.012444966946565827, 'y': 2.1234887718910835}. Best is trial 6 with value: 18.469804635091595.\u001b[0m\n",
      "\u001b[32m[I 2022-10-29 15:06:25,270]\u001b[0m Trial 36 finished with value: 1578.1577848177408 and parameters: {'x': 7.088525124080186, 'y': 0.47758396154855104}. Best is trial 6 with value: 18.469804635091595.\u001b[0m\n",
      "\u001b[32m[I 2022-10-29 15:06:25,281]\u001b[0m Trial 37 finished with value: 102.1028760571844 and parameters: {'x': 2.94289981107483, 'y': 3.7500319873740846}. Best is trial 6 with value: 18.469804635091595.\u001b[0m\n",
      "\u001b[32m[I 2022-10-29 15:06:25,293]\u001b[0m Trial 38 finished with value: 633.5167493197608 and parameters: {'x': 6.147286596108513, 'y': -1.702711076654958}. Best is trial 6 with value: 18.469804635091595.\u001b[0m\n",
      "\u001b[32m[I 2022-10-29 15:06:25,306]\u001b[0m Trial 39 finished with value: 1297.3795836695508 and parameters: {'x': 1.5279097681139566, 'y': 6.436006552944766}. Best is trial 6 with value: 18.469804635091595.\u001b[0m\n"
     ]
    },
    {
     "name": "stderr",
     "output_type": "stream",
     "text": [
      "\u001b[32m[I 2022-10-29 15:06:25,319]\u001b[0m Trial 40 finished with value: 127.41421615250809 and parameters: {'x': -2.3708358125632873, 'y': -3.9631038681535973}. Best is trial 6 with value: 18.469804635091595.\u001b[0m\n",
      "\u001b[32m[I 2022-10-29 15:06:25,329]\u001b[0m Trial 41 finished with value: 26.080103618015702 and parameters: {'x': 3.8218126368353253, 'y': 1.164389314680465}. Best is trial 6 with value: 18.469804635091595.\u001b[0m\n",
      "\u001b[32m[I 2022-10-29 15:06:25,340]\u001b[0m Trial 42 finished with value: 13.985454061230836 and parameters: {'x': 3.597536081224681, 'y': 1.1217726514260238}. Best is trial 42 with value: 13.985454061230836.\u001b[0m\n",
      "\u001b[32m[I 2022-10-29 15:06:25,352]\u001b[0m Trial 43 finished with value: 51.74566794563712 and parameters: {'x': 4.102506655213239, 'y': 1.2268541718867452}. Best is trial 42 with value: 13.985454061230836.\u001b[0m\n",
      "\u001b[32m[I 2022-10-29 15:06:25,361]\u001b[0m Trial 44 finished with value: 295.8027148783503 and parameters: {'x': 5.277754605710032, 'y': 0.26468087133546736}. Best is trial 42 with value: 13.985454061230836.\u001b[0m\n",
      "\u001b[32m[I 2022-10-29 15:06:25,374]\u001b[0m Trial 45 finished with value: 503.20580703315187 and parameters: {'x': 3.6612672203126397, 'y': 4.952779112724046}. Best is trial 42 with value: 13.985454061230836.\u001b[0m\n",
      "\u001b[32m[I 2022-10-29 15:06:25,387]\u001b[0m Trial 46 finished with value: 2413.977364497617 and parameters: {'x': 7.63270763255533, 'y': 1.7380019718137405}. Best is trial 42 with value: 13.985454061230836.\u001b[0m\n",
      "\u001b[32m[I 2022-10-29 15:06:25,399]\u001b[0m Trial 47 finished with value: 827.8322360877366 and parameters: {'x': 6.456321280581818, 'y': -2.3288637755672035}. Best is trial 42 with value: 13.985454061230836.\u001b[0m\n",
      "\u001b[32m[I 2022-10-29 15:06:25,411]\u001b[0m Trial 48 finished with value: 100.22583771655323 and parameters: {'x': 1.6339973405088801, 'y': -0.13286634526083674}. Best is trial 42 with value: 13.985454061230836.\u001b[0m\n",
      "\u001b[32m[I 2022-10-29 15:06:25,422]\u001b[0m Trial 49 finished with value: 63.40237673928291 and parameters: {'x': 0.6275419028820979, 'y': 2.882139829391724}. Best is trial 42 with value: 13.985454061230836.\u001b[0m\n",
      "\u001b[32m[I 2022-10-29 15:06:25,434]\u001b[0m Trial 50 finished with value: 987.0302947621532 and parameters: {'x': 3.1120490433929557, 'y': 5.913263406587701}. Best is trial 42 with value: 13.985454061230836.\u001b[0m\n",
      "\u001b[32m[I 2022-10-29 15:06:25,444]\u001b[0m Trial 51 finished with value: 27.972499563918348 and parameters: {'x': 2.7603744685414435, 'y': -1.4244660136216787}. Best is trial 42 with value: 13.985454061230836.\u001b[0m\n",
      "\u001b[32m[I 2022-10-29 15:06:25,454]\u001b[0m Trial 52 finished with value: 136.10473622069983 and parameters: {'x': 4.656931420690694, 'y': 0.8713821485874721}. Best is trial 42 with value: 13.985454061230836.\u001b[0m\n",
      "\u001b[32m[I 2022-10-29 15:06:25,465]\u001b[0m Trial 53 finished with value: 51.5886485500721 and parameters: {'x': 2.4203326624661465, 'y': -2.02437033374412}. Best is trial 42 with value: 13.985454061230836.\u001b[0m\n",
      "\u001b[32m[I 2022-10-29 15:06:25,481]\u001b[0m Trial 54 finished with value: 538.2949106989024 and parameters: {'x': 5.872976833254446, 'y': -0.3134921298793505}. Best is trial 42 with value: 13.985454061230836.\u001b[0m\n",
      "\u001b[32m[I 2022-10-29 15:06:25,490]\u001b[0m Trial 55 finished with value: 4.343648769649358 and parameters: {'x': 3.268543625433269, 'y': 2.1661381520614027}. Best is trial 55 with value: 4.343648769649358.\u001b[0m\n",
      "\u001b[32m[I 2022-10-29 15:06:25,501]\u001b[0m Trial 56 finished with value: 27.406396549621753 and parameters: {'x': 3.7515192426519697, 'y': 2.06319670378098}. Best is trial 55 with value: 4.343648769649358.\u001b[0m\n",
      "\u001b[32m[I 2022-10-29 15:06:25,510]\u001b[0m Trial 57 finished with value: 15.625577181448161 and parameters: {'x': 3.5080398274467477, 'y': 2.2734330054365843}. Best is trial 55 with value: 4.343648769649358.\u001b[0m\n",
      "\u001b[32m[I 2022-10-29 15:06:25,520]\u001b[0m Trial 58 finished with value: 14.668685643662336 and parameters: {'x': 3.5001650326102123, 'y': 2.2485104863928003}. Best is trial 55 with value: 4.343648769649358.\u001b[0m\n",
      "\u001b[32m[I 2022-10-29 15:06:25,531]\u001b[0m Trial 59 finished with value: 3671.731331669057 and parameters: {'x': 8.154002124495541, 'y': 3.540513908422546}. Best is trial 55 with value: 4.343648769649358.\u001b[0m\n",
      "\u001b[32m[I 2022-10-29 15:06:25,540]\u001b[0m Trial 60 finished with value: 2961.667805363266 and parameters: {'x': 5.405060969254318, 'y': 7.056405774860283}. Best is trial 55 with value: 4.343648769649358.\u001b[0m\n",
      "\u001b[32m[I 2022-10-29 15:06:25,551]\u001b[0m Trial 61 finished with value: 122.24037252489858 and parameters: {'x': 4.447794121557567, 'y': 2.1093679010378725}. Best is trial 55 with value: 4.343648769649358.\u001b[0m\n",
      "\u001b[32m[I 2022-10-29 15:06:25,560]\u001b[0m Trial 62 finished with value: 430.69685420687426 and parameters: {'x': 3.157439938981121, 'y': 4.922160351100686}. Best is trial 55 with value: 4.343648769649358.\u001b[0m\n",
      "\u001b[32m[I 2022-10-29 15:06:25,570]\u001b[0m Trial 63 finished with value: 26.72767251569288 and parameters: {'x': 3.621883728779435, 'y': 2.419756778207166}. Best is trial 55 with value: 4.343648769649358.\u001b[0m\n",
      "\u001b[32m[I 2022-10-29 15:06:25,581]\u001b[0m Trial 64 finished with value: 377.9570282733889 and parameters: {'x': 4.925095824045954, 'y': 3.4633332752226815}. Best is trial 55 with value: 4.343648769649358.\u001b[0m\n",
      "\u001b[32m[I 2022-10-29 15:06:25,589]\u001b[0m Trial 65 finished with value: 272.7796244760459 and parameters: {'x': 3.5436846276535827, 'y': 4.345277889279062}. Best is trial 55 with value: 4.343648769649358.\u001b[0m\n",
      "\u001b[32m[I 2022-10-29 15:06:25,601]\u001b[0m Trial 66 finished with value: 57.95902377990909 and parameters: {'x': 0.882102502050035, 'y': 2.774149131297431}. Best is trial 55 with value: 4.343648769649358.\u001b[0m\n",
      "\u001b[32m[I 2022-10-29 15:06:25,610]\u001b[0m Trial 67 finished with value: 35.20688915223486 and parameters: {'x': 1.674214315661613, 'y': 2.2664741353270577}. Best is trial 55 with value: 4.343648769649358.\u001b[0m\n",
      "\u001b[32m[I 2022-10-29 15:06:25,622]\u001b[0m Trial 68 finished with value: 459.4094547642471 and parameters: {'x': 5.751560681156944, 'y': -0.6619327206998289}. Best is trial 55 with value: 4.343648769649358.\u001b[0m\n",
      "\u001b[32m[I 2022-10-29 15:06:25,633]\u001b[0m Trial 69 finished with value: 1849.7498586406207 and parameters: {'x': 7.019317513749472, 'y': 3.3114245604129193}. Best is trial 55 with value: 4.343648769649358.\u001b[0m\n",
      "\u001b[32m[I 2022-10-29 15:06:25,642]\u001b[0m Trial 70 finished with value: 31.243670673124683 and parameters: {'x': 3.8793918210794525, 'y': 1.442185206981979}. Best is trial 55 with value: 4.343648769649358.\u001b[0m\n",
      "\u001b[32m[I 2022-10-29 15:06:25,653]\u001b[0m Trial 71 finished with value: 88.48333637805311 and parameters: {'x': 4.2971496149998645, 'y': 1.897964960817058}. Best is trial 55 with value: 4.343648769649358.\u001b[0m\n",
      "\u001b[32m[I 2022-10-29 15:06:25,666]\u001b[0m Trial 72 finished with value: 28.523139834074726 and parameters: {'x': 3.5227182997614133, 'y': 2.638398157223795}. Best is trial 55 with value: 4.343648769649358.\u001b[0m\n",
      "\u001b[32m[I 2022-10-29 15:06:25,675]\u001b[0m Trial 73 finished with value: 64.07752507779101 and parameters: {'x': 2.032680098470932, 'y': 0.44154118440758205}. Best is trial 55 with value: 4.343648769649358.\u001b[0m\n",
      "\u001b[32m[I 2022-10-29 15:06:25,686]\u001b[0m Trial 74 finished with value: 71.65382281949445 and parameters: {'x': -0.5125177880851997, 'y': 2.4282115084370197}. Best is trial 55 with value: 4.343648769649358.\u001b[0m\n",
      "\u001b[32m[I 2022-10-29 15:06:25,698]\u001b[0m Trial 75 finished with value: 337.6360433553933 and parameters: {'x': 4.263426773711706, 'y': 4.148088444637928}. Best is trial 55 with value: 4.343648769649358.\u001b[0m\n",
      "\u001b[32m[I 2022-10-29 15:06:25,707]\u001b[0m Trial 76 finished with value: 231.79663025729315 and parameters: {'x': 4.9578927677772615, 'y': 1.6315455683240812}. Best is trial 55 with value: 4.343648769649358.\u001b[0m\n",
      "\u001b[32m[I 2022-10-29 15:06:25,719]\u001b[0m Trial 77 finished with value: 1182.487296019774 and parameters: {'x': -6.488558947354876, 'y': 0.7870588603962643}. Best is trial 55 with value: 4.343648769649358.\u001b[0m\n",
      "\u001b[32m[I 2022-10-29 15:06:25,728]\u001b[0m Trial 78 finished with value: 14.65308460107628 and parameters: {'x': 3.5403453243504335, 'y': 0.1523562839417003}. Best is trial 55 with value: 4.343648769649358.\u001b[0m\n",
      "\u001b[32m[I 2022-10-29 15:06:25,738]\u001b[0m Trial 79 finished with value: 155.2693767501904 and parameters: {'x': 1.1868199042677725, 'y': -2.747665798041237}. Best is trial 55 with value: 4.343648769649358.\u001b[0m\n"
     ]
    },
    {
     "name": "stderr",
     "output_type": "stream",
     "text": [
      "\u001b[32m[I 2022-10-29 15:06:25,750]\u001b[0m Trial 80 finished with value: 32.28187431495158 and parameters: {'x': 2.7000522412978647, 'y': -0.0041033708432680616}. Best is trial 55 with value: 4.343648769649358.\u001b[0m\n",
      "\u001b[32m[I 2022-10-29 15:06:25,760]\u001b[0m Trial 81 finished with value: 14.073549490154946 and parameters: {'x': 3.5959699956415534, 'y': 1.0798794986521807}. Best is trial 55 with value: 4.343648769649358.\u001b[0m\n",
      "\u001b[32m[I 2022-10-29 15:06:25,771]\u001b[0m Trial 82 finished with value: 10.633041155686369 and parameters: {'x': 3.29618931336289, 'y': -0.7523832058892367}. Best is trial 55 with value: 4.343648769649358.\u001b[0m\n",
      "\u001b[32m[I 2022-10-29 15:06:25,782]\u001b[0m Trial 83 finished with value: 19.61725821825633 and parameters: {'x': 2.959018807361061, 'y': -1.0272172370397823}. Best is trial 55 with value: 4.343648769649358.\u001b[0m\n",
      "\u001b[32m[I 2022-10-29 15:06:25,790]\u001b[0m Trial 84 finished with value: 89.17212036781382 and parameters: {'x': 1.8728404499790483, 'y': -1.0526684553438006}. Best is trial 55 with value: 4.343648769649358.\u001b[0m\n",
      "\u001b[32m[I 2022-10-29 15:06:25,802]\u001b[0m Trial 85 finished with value: 18.419755945886198 and parameters: {'x': 3.0264183249168775, 'y': -0.7355838983497807}. Best is trial 55 with value: 4.343648769649358.\u001b[0m\n",
      "\u001b[32m[I 2022-10-29 15:06:25,813]\u001b[0m Trial 86 finished with value: 99.6315953088488 and parameters: {'x': 4.618008066727538, 'y': -0.5608845447654098}. Best is trial 55 with value: 4.343648769649358.\u001b[0m\n",
      "\u001b[32m[I 2022-10-29 15:06:25,822]\u001b[0m Trial 87 finished with value: 66.16519647156255 and parameters: {'x': 2.186606295541492, 'y': -1.5487407749476092}. Best is trial 55 with value: 4.343648769649358.\u001b[0m\n",
      "\u001b[32m[I 2022-10-29 15:06:25,834]\u001b[0m Trial 88 finished with value: 13.35991671779415 and parameters: {'x': 3.238469294549821, 'y': 0.33288939995132716}. Best is trial 55 with value: 4.343648769649358.\u001b[0m\n",
      "\u001b[32m[I 2022-10-29 15:06:25,843]\u001b[0m Trial 89 finished with value: 9332.133456012129 and parameters: {'x': 3.231388097123903, 'y': -9.989695123071698}. Best is trial 55 with value: 4.343648769649358.\u001b[0m\n",
      "\u001b[32m[I 2022-10-29 15:06:25,853]\u001b[0m Trial 90 finished with value: 106.27455995020618 and parameters: {'x': 1.4162915136087153, 'y': 0.27871596232272466}. Best is trial 55 with value: 4.343648769649358.\u001b[0m\n",
      "\u001b[32m[I 2022-10-29 15:06:25,865]\u001b[0m Trial 91 finished with value: 22.760389969791387 and parameters: {'x': 2.695392665110549, 'y': 0.7588408743657299}. Best is trial 55 with value: 4.343648769649358.\u001b[0m\n",
      "\u001b[32m[I 2022-10-29 15:06:25,873]\u001b[0m Trial 92 finished with value: 27.30823954215257 and parameters: {'x': 4.223459531057848, 'y': -2.3270990514267185}. Best is trial 55 with value: 4.343648769649358.\u001b[0m\n",
      "\u001b[32m[I 2022-10-29 15:06:25,884]\u001b[0m Trial 93 finished with value: 395.4527476055473 and parameters: {'x': 5.558715339082542, 'y': -0.06531198621015877}. Best is trial 55 with value: 4.343648769649358.\u001b[0m\n",
      "\u001b[32m[I 2022-10-29 15:06:25,894]\u001b[0m Trial 94 finished with value: 992.5459041889198 and parameters: {'x': 6.573402001709834, 'y': -0.7049960397586454}. Best is trial 55 with value: 4.343648769649358.\u001b[0m\n",
      "\u001b[32m[I 2022-10-29 15:06:25,903]\u001b[0m Trial 95 finished with value: 6.34002727769773 and parameters: {'x': 3.285267755689955, 'y': 1.1799886950246894}. Best is trial 55 with value: 4.343648769649358.\u001b[0m\n",
      "\u001b[32m[I 2022-10-29 15:06:25,914]\u001b[0m Trial 96 finished with value: 4.4649762496134775 and parameters: {'x': 3.3435434690647687, 'y': 1.5737498678677173}. Best is trial 55 with value: 4.343648769649358.\u001b[0m\n",
      "\u001b[32m[I 2022-10-29 15:06:25,923]\u001b[0m Trial 97 finished with value: 112.95829806647313 and parameters: {'x': 0.5160052366913184, 'y': 1.277590212225986}. Best is trial 55 with value: 4.343648769649358.\u001b[0m\n",
      "\u001b[32m[I 2022-10-29 15:06:25,935]\u001b[0m Trial 98 finished with value: 37.0468328943553 and parameters: {'x': 2.260728079320635, 'y': 3.1931577870803505}. Best is trial 55 with value: 4.343648769649358.\u001b[0m\n",
      "\u001b[32m[I 2022-10-29 15:06:25,945]\u001b[0m Trial 99 finished with value: 5.671827423375931 and parameters: {'x': 3.4019516519434037, 'y': 1.6923160901599617}. Best is trial 55 with value: 4.343648769649358.\u001b[0m\n"
     ]
    }
   ],
   "source": [
    "study = optuna.create_study()\n",
    "study.optimize(objective, n_trials=100)"
   ]
  },
  {
   "cell_type": "code",
   "execution_count": 4,
   "id": "6026bac2",
   "metadata": {},
   "outputs": [
    {
     "name": "stdout",
     "output_type": "stream",
     "text": [
      "Found x: 3.268543625433269, Found y: 2.1661381520614027, Result: 4.343648769649358\n"
     ]
    }
   ],
   "source": [
    "best_params = study.best_params\n",
    "found_x = best_params[\"x\"]\n",
    "found_y = best_params[\"y\"]\n",
    "print(f\"Found x: {found_x}, Found y: {found_y}, Result: {Himmelblau(found_x, found_y)}\")"
   ]
  },
  {
   "cell_type": "markdown",
   "id": "33253b51",
   "metadata": {},
   "source": [
    "## Датасет sklearn (Digits)"
   ]
  },
  {
   "cell_type": "code",
   "execution_count": 5,
   "id": "71bc2cab",
   "metadata": {},
   "outputs": [],
   "source": [
    "import logging\n",
    "import sys\n",
    "\n",
    "import sklearn.datasets\n",
    "import sklearn.linear_model\n",
    "import sklearn.model_selection\n",
    "\n",
    "\n",
    "def objective(trial):\n",
    "    digs = sklearn.datasets.load_digits()\n",
    "    classes = list(set(digs.target))\n",
    "    train_x, valid_x, train_y, valid_y = sklearn.model_selection.train_test_split(\n",
    "        digs.data, digs.target, test_size=0.25, random_state=0\n",
    "    )\n",
    "\n",
    "    alpha = trial.suggest_float(\"alpha\", 1e-5, 1e-1, log=True)\n",
    "    clf = sklearn.linear_model.SGDClassifier(alpha=alpha)\n",
    "\n",
    "    for step in range(100):\n",
    "        clf.partial_fit(train_x, train_y, classes=classes)\n",
    "\n",
    "        # Report intermediate objective value.\n",
    "        intermediate_value = 1.0 - clf.score(valid_x, valid_y)\n",
    "        trial.report(intermediate_value, step)\n",
    "\n",
    "        # Handle pruning based on the intermediate value.\n",
    "        if trial.should_prune():\n",
    "            raise optuna.TrialPruned()\n",
    "\n",
    "    return 1.0 - clf.score(valid_x, valid_y)"
   ]
  },
  {
   "cell_type": "code",
   "execution_count": 6,
   "id": "47e773b5",
   "metadata": {},
   "outputs": [
    {
     "name": "stderr",
     "output_type": "stream",
     "text": [
      "\u001b[32m[I 2022-10-29 15:06:26,404]\u001b[0m A new study created in memory with name: no-name-95008406-2107-4051-a776-75ff0d5af64c\u001b[0m\n"
     ]
    },
    {
     "name": "stdout",
     "output_type": "stream",
     "text": [
      "A new study created in memory with name: no-name-95008406-2107-4051-a776-75ff0d5af64c\n"
     ]
    },
    {
     "name": "stderr",
     "output_type": "stream",
     "text": [
      "\u001b[32m[I 2022-10-29 15:06:27,148]\u001b[0m Trial 0 finished with value: 0.05555555555555558 and parameters: {'alpha': 0.009603337425836954}. Best is trial 0 with value: 0.05555555555555558.\u001b[0m\n"
     ]
    },
    {
     "name": "stdout",
     "output_type": "stream",
     "text": [
      "Trial 0 finished with value: 0.05555555555555558 and parameters: {'alpha': 0.009603337425836954}. Best is trial 0 with value: 0.05555555555555558.\n"
     ]
    },
    {
     "name": "stderr",
     "output_type": "stream",
     "text": [
      "\u001b[32m[I 2022-10-29 15:06:27,906]\u001b[0m Trial 1 finished with value: 0.046666666666666634 and parameters: {'alpha': 0.02429405901623074}. Best is trial 1 with value: 0.046666666666666634.\u001b[0m\n"
     ]
    },
    {
     "name": "stdout",
     "output_type": "stream",
     "text": [
      "Trial 1 finished with value: 0.046666666666666634 and parameters: {'alpha': 0.02429405901623074}. Best is trial 1 with value: 0.046666666666666634.\n"
     ]
    },
    {
     "name": "stderr",
     "output_type": "stream",
     "text": [
      "\u001b[32m[I 2022-10-29 15:06:28,623]\u001b[0m Trial 2 finished with value: 0.06222222222222218 and parameters: {'alpha': 2.434541901223732e-05}. Best is trial 1 with value: 0.046666666666666634.\u001b[0m\n"
     ]
    },
    {
     "name": "stdout",
     "output_type": "stream",
     "text": [
      "Trial 2 finished with value: 0.06222222222222218 and parameters: {'alpha': 2.434541901223732e-05}. Best is trial 1 with value: 0.046666666666666634.\n"
     ]
    },
    {
     "name": "stderr",
     "output_type": "stream",
     "text": [
      "\u001b[32m[I 2022-10-29 15:06:29,378]\u001b[0m Trial 3 finished with value: 0.05777777777777782 and parameters: {'alpha': 0.0012069578589860872}. Best is trial 1 with value: 0.046666666666666634.\u001b[0m\n"
     ]
    },
    {
     "name": "stdout",
     "output_type": "stream",
     "text": [
      "Trial 3 finished with value: 0.05777777777777782 and parameters: {'alpha': 0.0012069578589860872}. Best is trial 1 with value: 0.046666666666666634.\n"
     ]
    },
    {
     "name": "stderr",
     "output_type": "stream",
     "text": [
      "\u001b[32m[I 2022-10-29 15:06:30,096]\u001b[0m Trial 4 finished with value: 0.0755555555555556 and parameters: {'alpha': 4.639145748337495e-05}. Best is trial 1 with value: 0.046666666666666634.\u001b[0m\n"
     ]
    },
    {
     "name": "stdout",
     "output_type": "stream",
     "text": [
      "Trial 4 finished with value: 0.0755555555555556 and parameters: {'alpha': 4.639145748337495e-05}. Best is trial 1 with value: 0.046666666666666634.\n"
     ]
    },
    {
     "name": "stderr",
     "output_type": "stream",
     "text": [
      "\u001b[32m[I 2022-10-29 15:06:30,221]\u001b[0m Trial 5 pruned. \u001b[0m\n"
     ]
    },
    {
     "name": "stdout",
     "output_type": "stream",
     "text": [
      "Trial 5 pruned. \n"
     ]
    },
    {
     "name": "stderr",
     "output_type": "stream",
     "text": [
      "\u001b[32m[I 2022-10-29 15:06:30,337]\u001b[0m Trial 6 pruned. \u001b[0m\n"
     ]
    },
    {
     "name": "stdout",
     "output_type": "stream",
     "text": [
      "Trial 6 pruned. \n"
     ]
    },
    {
     "name": "stderr",
     "output_type": "stream",
     "text": [
      "\u001b[32m[I 2022-10-29 15:06:30,439]\u001b[0m Trial 7 pruned. \u001b[0m\n"
     ]
    },
    {
     "name": "stdout",
     "output_type": "stream",
     "text": [
      "Trial 7 pruned. \n"
     ]
    },
    {
     "name": "stderr",
     "output_type": "stream",
     "text": [
      "\u001b[32m[I 2022-10-29 15:06:30,546]\u001b[0m Trial 8 pruned. \u001b[0m\n"
     ]
    },
    {
     "name": "stdout",
     "output_type": "stream",
     "text": [
      "Trial 8 pruned. \n"
     ]
    },
    {
     "name": "stderr",
     "output_type": "stream",
     "text": [
      "\u001b[32m[I 2022-10-29 15:06:31,283]\u001b[0m Trial 9 finished with value: 0.0444444444444444 and parameters: {'alpha': 0.00026010268969165373}. Best is trial 9 with value: 0.0444444444444444.\u001b[0m\n"
     ]
    },
    {
     "name": "stdout",
     "output_type": "stream",
     "text": [
      "Trial 9 finished with value: 0.0444444444444444 and parameters: {'alpha': 0.00026010268969165373}. Best is trial 9 with value: 0.0444444444444444.\n"
     ]
    },
    {
     "name": "stderr",
     "output_type": "stream",
     "text": [
      "\u001b[32m[I 2022-10-29 15:06:32,076]\u001b[0m Trial 10 finished with value: 0.06000000000000005 and parameters: {'alpha': 0.00021702955297410535}. Best is trial 9 with value: 0.0444444444444444.\u001b[0m\n"
     ]
    },
    {
     "name": "stdout",
     "output_type": "stream",
     "text": [
      "Trial 10 finished with value: 0.06000000000000005 and parameters: {'alpha': 0.00021702955297410535}. Best is trial 9 with value: 0.0444444444444444.\n"
     ]
    },
    {
     "name": "stderr",
     "output_type": "stream",
     "text": [
      "\u001b[32m[I 2022-10-29 15:06:32,820]\u001b[0m Trial 11 finished with value: 0.046666666666666634 and parameters: {'alpha': 0.07936891164996104}. Best is trial 9 with value: 0.0444444444444444.\u001b[0m\n"
     ]
    },
    {
     "name": "stdout",
     "output_type": "stream",
     "text": [
      "Trial 11 finished with value: 0.046666666666666634 and parameters: {'alpha': 0.07936891164996104}. Best is trial 9 with value: 0.0444444444444444.\n"
     ]
    },
    {
     "name": "stderr",
     "output_type": "stream",
     "text": [
      "\u001b[32m[I 2022-10-29 15:06:32,931]\u001b[0m Trial 12 pruned. \u001b[0m\n"
     ]
    },
    {
     "name": "stdout",
     "output_type": "stream",
     "text": [
      "Trial 12 pruned. \n"
     ]
    },
    {
     "name": "stderr",
     "output_type": "stream",
     "text": [
      "\u001b[32m[I 2022-10-29 15:06:33,322]\u001b[0m Trial 13 pruned. \u001b[0m\n"
     ]
    },
    {
     "name": "stdout",
     "output_type": "stream",
     "text": [
      "Trial 13 pruned. \n"
     ]
    },
    {
     "name": "stderr",
     "output_type": "stream",
     "text": [
      "\u001b[32m[I 2022-10-29 15:06:33,443]\u001b[0m Trial 14 pruned. \u001b[0m\n"
     ]
    },
    {
     "name": "stdout",
     "output_type": "stream",
     "text": [
      "Trial 14 pruned. \n"
     ]
    },
    {
     "name": "stderr",
     "output_type": "stream",
     "text": [
      "\u001b[32m[I 2022-10-29 15:06:33,551]\u001b[0m Trial 15 pruned. \u001b[0m\n"
     ]
    },
    {
     "name": "stdout",
     "output_type": "stream",
     "text": [
      "Trial 15 pruned. \n"
     ]
    },
    {
     "name": "stderr",
     "output_type": "stream",
     "text": [
      "\u001b[32m[I 2022-10-29 15:06:33,702]\u001b[0m Trial 16 pruned. \u001b[0m\n"
     ]
    },
    {
     "name": "stdout",
     "output_type": "stream",
     "text": [
      "Trial 16 pruned. \n"
     ]
    },
    {
     "name": "stderr",
     "output_type": "stream",
     "text": [
      "\u001b[32m[I 2022-10-29 15:06:33,824]\u001b[0m Trial 17 pruned. \u001b[0m\n"
     ]
    },
    {
     "name": "stdout",
     "output_type": "stream",
     "text": [
      "Trial 17 pruned. \n"
     ]
    },
    {
     "name": "stderr",
     "output_type": "stream",
     "text": [
      "\u001b[32m[I 2022-10-29 15:06:33,935]\u001b[0m Trial 18 pruned. \u001b[0m\n"
     ]
    },
    {
     "name": "stdout",
     "output_type": "stream",
     "text": [
      "Trial 18 pruned. \n"
     ]
    },
    {
     "name": "stderr",
     "output_type": "stream",
     "text": [
      "\u001b[32m[I 2022-10-29 15:06:34,077]\u001b[0m Trial 19 pruned. \u001b[0m\n"
     ]
    },
    {
     "name": "stdout",
     "output_type": "stream",
     "text": [
      "Trial 19 pruned. \n"
     ]
    }
   ],
   "source": [
    "# Add stream handler of stdout to show the messages\n",
    "optuna.logging.get_logger(\"optuna\").addHandler(logging.StreamHandler(sys.stdout))\n",
    "study = optuna.create_study(pruner=optuna.pruners.MedianPruner())\n",
    "study.optimize(objective, n_trials=20)"
   ]
  },
  {
   "cell_type": "code",
   "execution_count": null,
   "id": "12f9ea88",
   "metadata": {},
   "outputs": [],
   "source": [
    "#Графики"
   ]
  }
 ],
 "metadata": {
  "kernelspec": {
   "display_name": "Python [conda env:MAI_114M] *",
   "language": "python",
   "name": "conda-env-MAI_114M-py"
  },
  "language_info": {
   "codemirror_mode": {
    "name": "ipython",
    "version": 3
   },
   "file_extension": ".py",
   "mimetype": "text/x-python",
   "name": "python",
   "nbconvert_exporter": "python",
   "pygments_lexer": "ipython3",
   "version": "3.7.12"
  }
 },
 "nbformat": 4,
 "nbformat_minor": 5
}

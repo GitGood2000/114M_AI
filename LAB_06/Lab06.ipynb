{
 "cells": [
  {
   "cell_type": "markdown",
   "id": "24c03140-1152-4996-849b-e1853d1016f4",
   "metadata": {},
   "source": [
    "# Лабораторная работа по ПГП (№6)\n",
    "\n",
    "## 2 задача\n",
    "### Вычисление множества ближайших соседей каждой точки в облаке в NUMBA"
   ]
  },
  {
   "cell_type": "markdown",
   "id": "0c9b75e5-59c2-4461-840a-75ee3a49cf7b",
   "metadata": {},
   "source": [
    "#### Стандартная реализация с помощью Sklearn"
   ]
  },
  {
   "cell_type": "code",
   "execution_count": 1,
   "id": "92550bc2-6db8-4400-b5c8-0030ce8ca2f0",
   "metadata": {},
   "outputs": [],
   "source": [
    "import numpy as np\n",
    "import sklearn as skl\n",
    "from sklearn import datasets\n",
    "from sklearn.neighbors import NearestNeighbors"
   ]
  },
  {
   "cell_type": "code",
   "execution_count": 2,
   "id": "5d7acdbc-90e6-4a42-ab47-386b17f23ca4",
   "metadata": {},
   "outputs": [
    {
     "data": {
      "text/plain": [
       "array([[ 0.80901751,  3.69975424],\n",
       "       [ 1.17304017,  5.27341106],\n",
       "       [ 2.50904929,  5.7731461 ],\n",
       "       ...,\n",
       "       [ 2.36680405,  2.66243872],\n",
       "       [ 2.06682596, -0.03600395],\n",
       "       [ 1.4159006 ,  3.79037687]])"
      ]
     },
     "execution_count": 2,
     "metadata": {},
     "output_type": "execute_result"
    }
   ],
   "source": [
    "#набор точек\n",
    "z, y = skl.datasets.make_blobs(n_samples=10000, centers=2, n_features=2, random_state=0)\n",
    "y = np.zeros(10000)\n",
    "x = np.zeros(10000)\n",
    "# Создаём массив из x и y\n",
    "for i in range(len(z)):\n",
    "    x[i],y[i] = z[i];\n",
    "c = np.concatenate((x, y))\n",
    "c = np.reshape(c, (-1, 2), order = 'F')\n",
    "c"
   ]
  },
  {
   "cell_type": "code",
   "execution_count": 3,
   "id": "34874b69-632a-42fa-9666-e6ce443bf4c6",
   "metadata": {},
   "outputs": [
    {
     "name": "stdout",
     "output_type": "stream",
     "text": [
      "[[   0 4349]\n",
      " [   1 8914]\n",
      " [   2 1224]\n",
      " ...\n",
      " [9997 4194]\n",
      " [9998 3886]\n",
      " [9999 6510]] \n",
      " [[0.         0.03220988]\n",
      " [0.         0.01347505]\n",
      " [0.         0.046338  ]\n",
      " ...\n",
      " [0.         0.03492665]\n",
      " [0.         0.01349694]\n",
      " [0.         0.02582222]]\n"
     ]
    }
   ],
   "source": [
    "nbrs = NearestNeighbors(n_neighbors=2, algorithm='ball_tree').fit(c)\n",
    "distances, indices = nbrs.kneighbors(c)\n",
    "print(f'{indices} \\n {distances}')"
   ]
  },
  {
   "cell_type": "markdown",
   "id": "5c444cda-fae2-48eb-b347-05031e0a3821",
   "metadata": {},
   "source": [
    "#### Параллельная реализация с Numba, Vincently и Sklearn\n",
    "\n",
    "Формула Виценти (Vicenty) позволяет вычислить расстояние от точки до точки на эллипсоиде с очень высокой точностью. Широко используется для географических задач."
   ]
  },
  {
   "cell_type": "code",
   "execution_count": 4,
   "id": "49acf64a-0b4b-4770-9890-a84e015b5b9c",
   "metadata": {},
   "outputs": [],
   "source": [
    "import numba\n",
    "from sklearn.neighbors import BallTree\n",
    "from numba import njit, prange, guvectorize\n",
    "from cuda_friendly_vincenty import vincenty"
   ]
  },
  {
   "cell_type": "code",
   "execution_count": 5,
   "id": "d6c61c5f-0ac5-4192-b27b-42cd98409d37",
   "metadata": {},
   "outputs": [
    {
     "data": {
      "text/plain": [
       "array([[ 0.8090175 ,  3.6997542 ],\n",
       "       [ 1.1730402 ,  5.2734113 ],\n",
       "       [ 2.5090492 ,  5.773146  ],\n",
       "       ...,\n",
       "       [ 2.3668041 ,  2.6624386 ],\n",
       "       [ 2.0668259 , -0.03600395],\n",
       "       [ 1.4159006 ,  3.790377  ]], dtype=float32)"
      ]
     },
     "execution_count": 5,
     "metadata": {},
     "output_type": "execute_result"
    }
   ],
   "source": [
    "c_nb = np.array(c, dtype=np.float32)\n",
    "c_nb\n",
    "#np.shape(c_nb)"
   ]
  },
  {
   "cell_type": "code",
   "execution_count": 6,
   "id": "6321a770-ef42-4171-b6ab-a687971ff326",
   "metadata": {},
   "outputs": [
    {
     "name": "stdout",
     "output_type": "stream",
     "text": [
      "[[   0 4349]\n",
      " [   1 8914]\n",
      " [   2 1224]\n",
      " ...\n",
      " [9997 4194]\n",
      " [9998 3886]\n",
      " [9999 6510]] \n",
      " [[0.         0.0357732 ]\n",
      " [0.         0.01492741]\n",
      " [0.         0.05124457]\n",
      " ...\n",
      " [0.         0.03882857]\n",
      " [0.         0.01492474]\n",
      " [0.         0.0286251 ]]\n"
     ]
    }
   ],
   "source": [
    "compiled_vincenty = njit(vincenty)\n",
    "\n",
    "# Нужно изменить формат вводных данных, чтобы они подошли к формату compiled_vincenty:\n",
    "@numba.njit(fastmath=True)\n",
    "#(fastmath=True, debug=True)\n",
    "def compiled_vincenty_changed_args(point1, point2):\n",
    "    return compiled_vincenty(point1[0], point1[1], point2[0], point2[1])\n",
    "\n",
    "nbrs_nb = BallTree(c_nb, leaf_size=5, metric=compiled_vincenty_changed_args)\n",
    "\n",
    "# Поиск двух ближайших точек, включая себя:\n",
    "distances_nb, indices_nb = nbrs_nb.query(c_nb, k=2)\n",
    "\n",
    "# данная версия измеряет по-другому, потому для того, чтобы выглядело одинаково:\n",
    "distances_nb[:] = [x / 100000 for x in distances_nb]\n",
    "\n",
    "print(f'{indices_nb} \\n {distances_nb}')"
   ]
  },
  {
   "cell_type": "markdown",
   "id": "4ff8063b-947b-47e7-a7fd-897d34a60425",
   "metadata": {},
   "source": [
    "#### Замер времени"
   ]
  },
  {
   "cell_type": "code",
   "execution_count": 7,
   "id": "90ebf084-2ef4-4398-aa1b-905bbec6a39c",
   "metadata": {},
   "outputs": [
    {
     "name": "stdout",
     "output_type": "stream",
     "text": [
      "3.37 ms ± 8.72 µs per loop (mean ± std. dev. of 7 runs, 100 loops each)\n"
     ]
    }
   ],
   "source": [
    "#CPU (Numpy)\n",
    "%timeit -n100 NearestNeighbors(n_neighbors=2, algorithm='ball_tree').fit(c)"
   ]
  },
  {
   "cell_type": "code",
   "execution_count": 8,
   "id": "f7022931-5773-4de7-a30b-a67bde7ef049",
   "metadata": {},
   "outputs": [
    {
     "name": "stdout",
     "output_type": "stream",
     "text": [
      "61 ms ± 187 µs per loop (mean ± std. dev. of 7 runs, 100 loops each)\n"
     ]
    }
   ],
   "source": [
    "#GPU (Numba)\n",
    "%timeit -n100 BallTree(c_nb, leaf_size=5, metric=compiled_vincenty_changed_args)"
   ]
  },
  {
   "cell_type": "code",
   "execution_count": null,
   "id": "bc74a2f6-3030-4985-adb1-e15cd390200d",
   "metadata": {},
   "outputs": [],
   "source": []
  }
 ],
 "metadata": {
  "kernelspec": {
   "display_name": "Python 3 (ipykernel)",
   "language": "python",
   "name": "python3"
  },
  "language_info": {
   "codemirror_mode": {
    "name": "ipython",
    "version": 3
   },
   "file_extension": ".py",
   "mimetype": "text/x-python",
   "name": "python",
   "nbconvert_exporter": "python",
   "pygments_lexer": "ipython3",
   "version": "3.9.15"
  }
 },
 "nbformat": 4,
 "nbformat_minor": 5
}

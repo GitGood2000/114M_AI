{
 "cells": [
  {
   "cell_type": "markdown",
   "id": "164c89ee",
   "metadata": {},
   "source": [
    " # Курсовая работа\n",
    " ## на тему \"Датасеты\"\n",
    "\n",
    "1) Выбор своего датасета (условие — выполнено в виде интерактивной презентации в юпитере)\n",
    "\n",
    "Нужно попытаться визуализировать экземпляр данных\n",
    "\n",
    "2) найти публикацию\\статью про датасет, внедрить ссылку и кратко описать в презентации (+ какие популярные модели используются)\n",
    "\n",
    "3) Пример данных с разметкой + пример кода для загрузки тестового набора\n",
    "\n",
    "4) Пример применения готовой модели на этих данных\n",
    "\n",
    "!) Обязательное использование Markdown + LaTeX\n",
    "\n",
    "!) Обязательное использование Plotly\n",
    "\n",
    "!) Обязательное использование готового кода с алгоритмом относительно датасета\n",
    "\n",
    "!) Обязательно воспользоваться доплнительно TensorBoard или аналогом\n",
    "\n",
    "*) (realesrgan, pifuhd) Препроцессинг другой моделью (+ описать)\n",
    "\n",
    "Титульник надо напечатать + ссылка на ноутбук"
   ]
  },
  {
   "cell_type": "code",
   "execution_count": null,
   "id": "2e9274c7",
   "metadata": {},
   "outputs": [],
   "source": [
    "import tensorboard"
   ]
  }
 ],
 "metadata": {
  "kernelspec": {
   "display_name": "Python [conda env:MAI_114M] *",
   "language": "python",
   "name": "conda-env-MAI_114M-py"
  },
  "language_info": {
   "codemirror_mode": {
    "name": "ipython",
    "version": 3
   },
   "file_extension": ".py",
   "mimetype": "text/x-python",
   "name": "python",
   "nbconvert_exporter": "python",
   "pygments_lexer": "ipython3",
   "version": "3.7.12"
  }
 },
 "nbformat": 4,
 "nbformat_minor": 5
}

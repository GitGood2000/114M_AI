{
 "cells": [
  {
   "cell_type": "markdown",
   "id": "9cfa2190",
   "metadata": {},
   "source": [
    "# Лабораторная работа №2\n",
    "### Глобальная оптимизация"
   ]
  },
  {
   "cell_type": "markdown",
   "id": "769acbb0",
   "metadata": {},
   "source": [
    "## Постановка задачи"
   ]
  },
  {
   "cell_type": "markdown",
   "id": "617eeefb",
   "metadata": {},
   "source": [
    "0)\tРазвернуть и протестировать работу pygmo\n",
    "\n",
    "1)\tНайти оптимумы тестовых функций лабы 1  с помощью двух алгоритмов этой библиотеки\n",
    "\n",
    "2)\tСконструировать нефункциональную(алгоритмическую) проблему оптимизации и решить в pygmo "
   ]
  },
  {
   "cell_type": "code",
   "execution_count": 1,
   "id": "0c4e9d73",
   "metadata": {},
   "outputs": [],
   "source": [
    "from typing import Tuple, Mapping\n",
    "\n",
    "import numpy as np\n",
    "from matplotlib import pyplot as plt\n",
    "import sklearn as skl\n",
    "from sklearn import datasets\n",
    "from matplotlib.animation import FuncAnimation\n",
    "from IPython import display\n",
    "import pygmo as pg"
   ]
  },
  {
   "cell_type": "markdown",
   "id": "6661f8a8",
   "metadata": {},
   "source": [
    "## Функция Химмельблау\n",
    "$$ f(x, y) = (x^2 + y - 11)^2 + (x + y^2 - 7)^2 $$"
   ]
  },
  {
   "cell_type": "code",
   "execution_count": 2,
   "id": "095d2a06",
   "metadata": {},
   "outputs": [
    {
     "ename": "IndentationError",
     "evalue": "expected an indented block (2913915298.py, line 3)",
     "output_type": "error",
     "traceback": [
      "\u001b[1;36m  File \u001b[1;32m\"C:\\Temp\\ipykernel_13020\\2913915298.py\"\u001b[1;36m, line \u001b[1;32m3\u001b[0m\n\u001b[1;33m    def Himmelblau(self: function, x: np.float32, y: np.float32) -> np.float64:\u001b[0m\n\u001b[1;37m      ^\u001b[0m\n\u001b[1;31mIndentationError\u001b[0m\u001b[1;31m:\u001b[0m expected an indented block\n"
     ]
    }
   ],
   "source": [
    "#функция 1\n",
    "class Function1:\n",
    "    def Himmelblau(self: function, x: np.float32, y: np.float32) -> np.float64:\n",
    "    '''\n",
    "    Функция Химмельблау\n",
    "    \n",
    "    Args:\n",
    "        x(np.ndarray): Аргумент 1\n",
    "        y(np.ndarray): Аргумент 2\n",
    "        \n",
    "    Returns:\n",
    "        np.float64: Результат функции\n",
    "    '''\n",
    "    return np.square(np.square(x)+y-11)+np.square(x+np.square(y)-7);\n",
    "\n",
    "    #градиент 1\n",
    "    def Himmelblau_Grad(self: function, x: np.ndarray, y: np.ndarray) -> np.float64:\n",
    "        return np.array([(4*x*(np.square(x)+y-11)+2*(x+np.square(y)-7)), (2*(np.square(x)+y-11)+4*y*(x+np.square(y)-7))]);"
   ]
  },
  {
   "cell_type": "markdown",
   "id": "75964be3",
   "metadata": {},
   "source": [
    "## Функция Комрика\n",
    "$$ f(x, y) = sin(x + y)+(x - y)^2 - 1.5x + 2.5y +1 $$"
   ]
  },
  {
   "cell_type": "code",
   "execution_count": null,
   "id": "1c3783ab",
   "metadata": {},
   "outputs": [],
   "source": [
    "#функция 2\n",
    "class Function2:\n",
    "    def McCormick(self: function, x: np.float32, y: np.float32) -> np.float64:\n",
    "    '''\n",
    "    Функция Химмельблау\n",
    "    \n",
    "    Args:\n",
    "        x(np.ndarray): Аргумент 1\n",
    "        y(np.ndarray): Аргумент 2\n",
    "        \n",
    "    Returns:\n",
    "        np.float64: Результат функции\n",
    "    '''\n",
    "    return np.sin(x + y)+np.square(x - y)-1.5*x+2.5*y+1;\n",
    "\n",
    "    #градиент 2\n",
    "    def McCormick_Grad(self: function, x: np.ndarray, y: np.ndarray) -> np.float64:\n",
    "    return np.array([np.cos(x+y)+2*(x-y)-1.5, np.cos(x+y)-2*(x-y)+2.5]);"
   ]
  }
 ],
 "metadata": {
  "kernelspec": {
   "display_name": "Python [conda env:MAI_114M] *",
   "language": "python",
   "name": "conda-env-MAI_114M-py"
  },
  "language_info": {
   "codemirror_mode": {
    "name": "ipython",
    "version": 3
   },
   "file_extension": ".py",
   "mimetype": "text/x-python",
   "name": "python",
   "nbconvert_exporter": "python",
   "pygments_lexer": "ipython3",
   "version": "3.7.12"
  }
 },
 "nbformat": 4,
 "nbformat_minor": 5
}
